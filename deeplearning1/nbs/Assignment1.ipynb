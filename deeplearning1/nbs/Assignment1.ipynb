{
 "cells": [
  {
   "cell_type": "markdown",
   "metadata": {},
   "source": [
    "### Assignment 1 - Dogs vs Cats"
   ]
  },
  {
   "cell_type": "markdown",
   "metadata": {},
   "source": [
    "### Setup"
   ]
  },
  {
   "cell_type": "code",
   "execution_count": 1,
   "metadata": {
    "collapsed": true
   },
   "outputs": [],
   "source": [
    "%matplotlib inline"
   ]
  },
  {
   "cell_type": "code",
   "execution_count": 2,
   "metadata": {
    "collapsed": true
   },
   "outputs": [],
   "source": [
    "path = \"data/dogscats/\""
   ]
  },
  {
   "cell_type": "code",
   "execution_count": 3,
   "metadata": {
    "collapsed": false
   },
   "outputs": [
    {
     "name": "stderr",
     "output_type": "stream",
     "text": [
      "WARNING (theano.sandbox.cuda): The cuda backend is deprecated and will be removed in the next release (v0.10).  Please switch to the gpuarray backend. You can get more information about how to switch at this URL:\n",
      " https://github.com/Theano/Theano/wiki/Converting-to-the-new-gpu-back-end%28gpuarray%29\n",
      "\n",
      "Using gpu device 0: Tesla K80 (CNMeM is disabled, cuDNN 5103)\n",
      "Using Theano backend.\n"
     ]
    }
   ],
   "source": [
    "from __future__ import division, print_function\n",
    "\n",
    "import os, json\n",
    "from glob import glob\n",
    "import numpy as np\n",
    "np.set_printoptions(precision=4, linewidth=100)\n",
    "from matplotlib import pyplot as plt\n",
    "\n",
    "import utils; reload(utils)\n",
    "from utils import plots"
   ]
  },
  {
   "cell_type": "code",
   "execution_count": 4,
   "metadata": {
    "collapsed": true
   },
   "outputs": [],
   "source": [
    "# batch_size=64\n",
    "batch_size=8"
   ]
  },
  {
   "cell_type": "code",
   "execution_count": 5,
   "metadata": {
    "collapsed": false
   },
   "outputs": [],
   "source": [
    "import vgg16; reload(vgg16)\n",
    "from vgg16 import Vgg16"
   ]
  },
  {
   "cell_type": "code",
   "execution_count": 6,
   "metadata": {
    "collapsed": false
   },
   "outputs": [
    {
     "name": "stderr",
     "output_type": "stream",
     "text": [
      "/home/ubuntu/anaconda2/lib/python2.7/site-packages/keras/backend/theano_backend.py:1282: UserWarning: DEPRECATION: the 'ds' parameter is not going to exist anymore as it is going to be replaced by the parameter 'ws'.\n",
      "  mode='max')\n",
      "/home/ubuntu/anaconda2/lib/python2.7/site-packages/keras/backend/theano_backend.py:1282: UserWarning: DEPRECATION: the 'st' parameter is not going to exist anymore as it is going to be replaced by the parameter 'stride'.\n",
      "  mode='max')\n",
      "/home/ubuntu/anaconda2/lib/python2.7/site-packages/keras/backend/theano_backend.py:1282: UserWarning: DEPRECATION: the 'padding' parameter is not going to exist anymore as it is going to be replaced by the parameter 'pad'.\n",
      "  mode='max')\n"
     ]
    }
   ],
   "source": [
    "vgg = Vgg16()"
   ]
  },
  {
   "cell_type": "markdown",
   "metadata": {},
   "source": [
    "#### Visualize data"
   ]
  },
  {
   "cell_type": "code",
   "execution_count": null,
   "metadata": {
    "collapsed": false
   },
   "outputs": [],
   "source": [
    "batches = vgg.get_batches(path+'train', batch_size=4)\n",
    "imgs,labels = next(batches)"
   ]
  },
  {
   "cell_type": "code",
   "execution_count": null,
   "metadata": {
    "collapsed": false
   },
   "outputs": [],
   "source": [
    "print(imgs.shape)\n",
    "print(labels.shape)"
   ]
  },
  {
   "cell_type": "code",
   "execution_count": null,
   "metadata": {
    "collapsed": false
   },
   "outputs": [],
   "source": [
    "imgs[0, :, 0, 0]"
   ]
  },
  {
   "cell_type": "code",
   "execution_count": null,
   "metadata": {
    "collapsed": false
   },
   "outputs": [],
   "source": [
    "plots(imgs, titles=labels)"
   ]
  },
  {
   "cell_type": "code",
   "execution_count": null,
   "metadata": {
    "collapsed": false
   },
   "outputs": [],
   "source": [
    "vgg.predict(imgs, True)"
   ]
  },
  {
   "cell_type": "code",
   "execution_count": null,
   "metadata": {
    "collapsed": false
   },
   "outputs": [],
   "source": [
    "vgg.classes[:4]"
   ]
  },
  {
   "cell_type": "markdown",
   "metadata": {},
   "source": [
    "### Finetune Cats and Dogs"
   ]
  },
  {
   "cell_type": "code",
   "execution_count": null,
   "metadata": {
    "collapsed": false
   },
   "outputs": [],
   "source": [
    "def train_vgg():\n",
    "    batch_size=64\n",
    "    batches = vgg.get_batches(path+'train', batch_size=batch_size)\n",
    "    val_batches = vgg.get_batches(path+'valid', batch_size=batch_size*2)\n",
    "    vgg.finetune(batches)\n",
    "    vgg.fit(batches, val_batches, nb_epoch=1)\n",
    "\n",
    "    vgg.model.save_weights(weights_fullpath)"
   ]
  },
  {
   "cell_type": "code",
   "execution_count": 7,
   "metadata": {
    "collapsed": false
   },
   "outputs": [
    {
     "name": "stdout",
     "output_type": "stream",
     "text": [
      "Loaded model from cache\n"
     ]
    }
   ],
   "source": [
    "from keras.utils.data_utils import get_file\n",
    "weights_file = 'dogscats_assignment_1.h5'\n",
    "weights_fullpath = path+'models/'+weights_file\n",
    "if os.path.exists(weights_fullpath):\n",
    "    vgg.model.load_weights(weights_fullpath)\n",
    "    print('Loaded model from cache')\n",
    "else:\n",
    "    train_vgg()"
   ]
  },
  {
   "cell_type": "markdown",
   "metadata": {},
   "source": [
    "### Predict results in test set"
   ]
  },
  {
   "cell_type": "code",
   "execution_count": 12,
   "metadata": {
    "collapsed": false
   },
   "outputs": [
    {
     "name": "stdout",
     "output_type": "stream",
     "text": [
      "Found 12500 images belonging to 1 classes.\n"
     ]
    }
   ],
   "source": [
    "folderName = 'test'\n",
    "num_test_images = 12500\n",
    "test_batch_size = 64\n",
    "\n",
    "# folderName = 'sample/test'\n",
    "# num_test_images = 8\n",
    "# test_batch_size = 1\n",
    "\n",
    "batches = vgg.get_batches(path+folderName, batch_size=test_batch_size, shuffle=False, class_mode=None)\n",
    "# with open('train.csv', 'wb') as csvfile:\n"
   ]
  },
  {
   "cell_type": "raw",
   "metadata": {
    "collapsed": false
   },
   "source": [
    "filenames = batches.filenames\n",
    "filename = filenames[0]\n",
    "print(filename)\n",
    "\n",
    "p = re.compile('.*/([0-9]+).jpg')\n",
    "m = p.match(filename)\n",
    "m.group(1)"
   ]
  },
  {
   "cell_type": "markdown",
   "metadata": {},
   "source": [
    "Let's look at our predictions..."
   ]
  },
  {
   "cell_type": "raw",
   "metadata": {
    "collapsed": true
   },
   "source": [
    "# Testing batch results\n",
    "test_batch_size = 10\n",
    "batches = vgg.get_batches(path+folderName, batch_size=test_batch_size, shuffle=False, class_mode=None)\n",
    "imgs = next(batches)\n",
    "labels, a, b = vgg.predict(imgs, True)\n",
    "# This shows the 'ground truth'\n",
    "plots(imgs, titles=labels)"
   ]
  },
  {
   "cell_type": "markdown",
   "metadata": {},
   "source": [
    "Need to convert file names to label ids"
   ]
  },
  {
   "cell_type": "code",
   "execution_count": 10,
   "metadata": {
    "collapsed": false
   },
   "outputs": [],
   "source": [
    "import re\n",
    "filenames = batches.filenames\n",
    "\n",
    "p = re.compile('.*/([0-9]+).jpg')\n",
    "def find_file_id(filename):\n",
    "    m = p.match(filename)\n",
    "    if m is not None:\n",
    "        return int(m.group(1))\n",
    "    else:\n",
    "        print('Could not regex filename: ', filename)\n",
    "        return -1\n",
    "file_ids = map(find_file_id, filenames)"
   ]
  },
  {
   "cell_type": "markdown",
   "metadata": {},
   "source": [
    "Option A: Predict values using vgg test function (Not recommended. No progress)"
   ]
  },
  {
   "cell_type": "raw",
   "metadata": {
    "collapsed": true
   },
   "source": [
    "# Testing batch results\n",
    "batches, predictions = vgg.test(path+folderName, batch_size=1)\n",
    "# print('A: ', batches)\n",
    "p_results = predictions[:, 1]\n",
    "\n",
    "print('Predictions: ', p_results)"
   ]
  },
  {
   "cell_type": "markdown",
   "metadata": {},
   "source": [
    "Option B: Predict values with batches and progress"
   ]
  },
  {
   "cell_type": "code",
   "execution_count": 16,
   "metadata": {
    "collapsed": false
   },
   "outputs": [
    {
     "name": "stderr",
     "output_type": "stream",
     "text": [
      "\n",
      "\n",
      "\r",
      "  0%|          | 0/196.0 [00:00<?, ?it/s]"
     ]
    },
    {
     "name": "stdout",
     "output_type": "stream",
     "text": [
      "Found 12500 images belonging to 1 classes.\n"
     ]
    },
    {
     "name": "stderr",
     "output_type": "stream",
     "text": [
      "\u001b[A\u001b[A\n",
      "\n",
      "  1%|          | 1/196.0 [00:02<07:38,  2.35s/it]\u001b[A\u001b[A\n",
      "\n",
      "  1%|          | 2/196.0 [00:04<07:31,  2.32s/it]\u001b[A\u001b[A\n",
      "\n",
      "  2%|▏         | 3/196.0 [00:06<07:20,  2.28s/it]\u001b[A\u001b[A\n",
      "\n",
      "  2%|▏         | 4/196.0 [00:09<07:15,  2.27s/it]\u001b[A\u001b[A\n",
      "\u001b[A\n",
      "\n",
      "  3%|▎         | 5/196.0 [00:11<07:10,  2.25s/it]\u001b[A\u001b[A\n",
      "\n",
      "  3%|▎         | 6/196.0 [00:13<07:06,  2.24s/it]\u001b[A\u001b[A\n",
      "\n",
      "  4%|▎         | 7/196.0 [00:15<07:02,  2.24s/it]\u001b[A\u001b[A\n",
      "\n",
      "  4%|▍         | 8/196.0 [00:17<06:58,  2.23s/it]\u001b[A\u001b[A\n",
      "\n",
      "  5%|▍         | 9/196.0 [00:20<06:56,  2.22s/it]\u001b[A\u001b[A\n",
      "\n",
      "  5%|▌         | 10/196.0 [00:22<06:56,  2.24s/it]\u001b[A\u001b[A\n",
      "\n",
      "  6%|▌         | 11/196.0 [00:24<06:52,  2.23s/it]\u001b[A\u001b[A\n",
      "\n",
      "  6%|▌         | 12/196.0 [00:26<06:50,  2.23s/it]\u001b[A\u001b[A\n",
      "\n",
      "  7%|▋         | 13/196.0 [00:29<06:50,  2.24s/it]\u001b[A\u001b[A\n",
      "\n",
      "  7%|▋         | 14/196.0 [00:31<06:47,  2.24s/it]\u001b[A\u001b[A\n",
      "\n",
      "  8%|▊         | 15/196.0 [00:33<06:45,  2.24s/it]\u001b[A\u001b[A\n",
      "\n",
      "  8%|▊         | 16/196.0 [00:35<06:44,  2.25s/it]\u001b[A\u001b[A\n",
      "\n",
      "  9%|▊         | 17/196.0 [00:38<06:40,  2.24s/it]\u001b[A\u001b[A\n",
      "\n",
      "  9%|▉         | 18/196.0 [00:40<06:38,  2.24s/it]\u001b[A\u001b[A\n",
      "\n",
      " 10%|▉         | 19/196.0 [00:42<06:35,  2.23s/it]\u001b[A\u001b[A\n",
      "\n",
      " 10%|█         | 20/196.0 [00:44<06:33,  2.24s/it]\u001b[A\u001b[A\n",
      "\n",
      " 11%|█         | 21/196.0 [00:46<06:30,  2.23s/it]\u001b[A\u001b[A\n",
      "\n",
      " 11%|█         | 22/196.0 [00:49<06:28,  2.23s/it]\u001b[A\u001b[A\n",
      "\n",
      " 12%|█▏        | 23/196.0 [00:51<06:26,  2.23s/it]\u001b[A\u001b[A\n",
      "\n",
      " 12%|█▏        | 24/196.0 [00:53<06:25,  2.24s/it]\u001b[A\u001b[A\n",
      "\n",
      " 13%|█▎        | 25/196.0 [00:55<06:22,  2.24s/it]\u001b[A\u001b[A\n",
      "\n",
      " 13%|█▎        | 26/196.0 [00:58<06:21,  2.25s/it]\u001b[A\u001b[A\n",
      "\n",
      " 14%|█▍        | 27/196.0 [01:00<06:18,  2.24s/it]\u001b[A\u001b[A\n",
      "\n",
      " 14%|█▍        | 28/196.0 [01:02<06:14,  2.23s/it]\u001b[A\u001b[A\n",
      "\n",
      " 15%|█▍        | 29/196.0 [01:04<06:11,  2.23s/it]\u001b[A\u001b[A\n",
      "\n",
      " 15%|█▌        | 30/196.0 [01:07<06:11,  2.24s/it]\u001b[A\u001b[A\n",
      "\n",
      " 16%|█▌        | 31/196.0 [01:09<06:08,  2.24s/it]\u001b[A\u001b[A\n",
      "\n",
      " 16%|█▋        | 32/196.0 [01:11<06:07,  2.24s/it]\u001b[A\u001b[A\n",
      "\n",
      " 17%|█▋        | 33/196.0 [01:13<06:05,  2.24s/it]\u001b[A\u001b[A\n",
      "\n",
      " 17%|█▋        | 34/196.0 [01:16<06:02,  2.24s/it]\u001b[A\u001b[A\n",
      "\n",
      " 18%|█▊        | 35/196.0 [01:18<06:01,  2.24s/it]\u001b[A\u001b[A\n",
      "\n",
      " 18%|█▊        | 36/196.0 [01:20<05:58,  2.24s/it]\u001b[A\u001b[A\n",
      "\n",
      " 19%|█▉        | 37/196.0 [01:22<05:56,  2.24s/it]\u001b[A\u001b[A\n",
      "\n",
      " 19%|█▉        | 38/196.0 [01:25<05:55,  2.25s/it]\u001b[A\u001b[A\n",
      "\n",
      " 20%|█▉        | 39/196.0 [01:27<05:52,  2.24s/it]\u001b[A\u001b[A\n",
      "\n",
      " 20%|██        | 40/196.0 [01:29<05:50,  2.24s/it]\u001b[A\u001b[A\n",
      "\n",
      " 21%|██        | 41/196.0 [01:31<05:47,  2.24s/it]\u001b[A\u001b[A\n",
      "\n",
      " 21%|██▏       | 42/196.0 [01:34<05:46,  2.25s/it]\u001b[A\u001b[A\n",
      "\n",
      " 22%|██▏       | 43/196.0 [01:36<05:42,  2.24s/it]\u001b[A\u001b[A\n",
      "\n",
      " 22%|██▏       | 44/196.0 [01:38<05:39,  2.24s/it]\u001b[A\u001b[A\n",
      "\n",
      " 23%|██▎       | 45/196.0 [01:40<05:38,  2.24s/it]\u001b[A\u001b[A\n",
      "\n",
      " 23%|██▎       | 46/196.0 [01:43<05:36,  2.24s/it]\u001b[A\u001b[A\n",
      "\n",
      " 24%|██▍       | 47/196.0 [01:45<05:33,  2.24s/it]\u001b[A\u001b[A\n",
      "\n",
      " 24%|██▍       | 48/196.0 [01:47<05:31,  2.24s/it]\u001b[A\u001b[A\n",
      "\n",
      " 25%|██▌       | 49/196.0 [01:49<05:28,  2.24s/it]\u001b[A\u001b[A\n",
      "\n",
      " 26%|██▌       | 50/196.0 [01:51<05:26,  2.24s/it]\u001b[A\u001b[A\n",
      "\n",
      " 26%|██▌       | 51/196.0 [01:54<05:25,  2.25s/it]\u001b[A\u001b[A\n",
      "\n",
      " 27%|██▋       | 52/196.0 [01:56<05:21,  2.23s/it]\u001b[A\u001b[A\n",
      "\n",
      " 27%|██▋       | 53/196.0 [01:58<05:20,  2.24s/it]\u001b[A\u001b[A\n",
      "\n",
      " 28%|██▊       | 54/196.0 [02:00<05:18,  2.24s/it]\u001b[A\u001b[A\n",
      "\n",
      " 28%|██▊       | 55/196.0 [02:03<05:16,  2.24s/it]\u001b[A\u001b[A\n",
      "\n",
      " 29%|██▊       | 56/196.0 [02:05<05:15,  2.25s/it]\u001b[A\u001b[A\n",
      "\n",
      " 29%|██▉       | 57/196.0 [02:07<05:12,  2.25s/it]\u001b[A\u001b[A\n",
      "\n",
      " 30%|██▉       | 58/196.0 [02:09<05:11,  2.26s/it]\u001b[A\u001b[A\n",
      "\n",
      " 30%|███       | 59/196.0 [02:12<05:07,  2.25s/it]\u001b[A\u001b[A\n",
      "\n",
      " 31%|███       | 60/196.0 [02:14<05:04,  2.24s/it]\u001b[A\u001b[A\n",
      "\n",
      " 31%|███       | 61/196.0 [02:16<05:03,  2.25s/it]\u001b[A\u001b[A\n",
      "\n",
      " 32%|███▏      | 62/196.0 [02:18<05:00,  2.24s/it]\u001b[A\u001b[A\n",
      "\n",
      " 32%|███▏      | 63/196.0 [02:21<04:57,  2.24s/it]\u001b[A\u001b[A\n",
      "\n",
      " 33%|███▎      | 64/196.0 [02:23<04:56,  2.25s/it]\u001b[A\u001b[A\n",
      "\n",
      " 33%|███▎      | 65/196.0 [02:25<04:53,  2.24s/it]\u001b[A\u001b[A\n",
      "\n",
      " 34%|███▎      | 66/196.0 [02:27<04:52,  2.25s/it]\u001b[A\u001b[A\n",
      "\n",
      " 34%|███▍      | 67/196.0 [02:30<04:49,  2.25s/it]\u001b[A\u001b[A\n",
      "\n",
      " 35%|███▍      | 68/196.0 [02:32<04:48,  2.25s/it]\u001b[A\u001b[A\n",
      "\n",
      " 35%|███▌      | 69/196.0 [02:34<04:46,  2.25s/it]\u001b[A\u001b[A\n",
      "\n",
      " 36%|███▌      | 70/196.0 [02:36<04:44,  2.26s/it]\u001b[A\u001b[A\n",
      "\n",
      " 36%|███▌      | 71/196.0 [02:39<04:41,  2.25s/it]\u001b[A\u001b[A\n",
      "\n",
      " 37%|███▋      | 72/196.0 [02:41<04:38,  2.25s/it]\u001b[A\u001b[A\n",
      "\n",
      " 37%|███▋      | 73/196.0 [02:43<04:37,  2.26s/it]\u001b[A\u001b[A\n",
      "\n",
      " 38%|███▊      | 74/196.0 [02:45<04:34,  2.25s/it]\u001b[A\u001b[A\n",
      "\n",
      " 38%|███▊      | 75/196.0 [02:48<04:33,  2.26s/it]\u001b[A\u001b[A\n",
      "\n",
      " 39%|███▉      | 76/196.0 [02:50<04:29,  2.25s/it]\u001b[A\u001b[A\n",
      "\n",
      " 39%|███▉      | 77/196.0 [02:52<04:27,  2.25s/it]\u001b[A\u001b[A\n",
      "\n",
      " 40%|███▉      | 78/196.0 [02:54<04:25,  2.25s/it]\u001b[A\u001b[A\n",
      "\n",
      " 40%|████      | 79/196.0 [02:57<04:22,  2.24s/it]\u001b[A\u001b[A\n",
      "\n",
      " 41%|████      | 80/196.0 [02:59<04:20,  2.24s/it]\u001b[A\u001b[A\n",
      "\n",
      " 41%|████▏     | 81/196.0 [03:01<04:18,  2.24s/it]\u001b[A\u001b[A\n",
      "\n",
      " 42%|████▏     | 82/196.0 [03:03<04:15,  2.24s/it]\u001b[A\u001b[A\n",
      "\n",
      " 42%|████▏     | 83/196.0 [03:06<04:14,  2.25s/it]\u001b[A\u001b[A\n",
      "\n",
      " 43%|████▎     | 84/196.0 [03:08<04:13,  2.27s/it]\u001b[A\u001b[A\n",
      "\n",
      " 43%|████▎     | 85/196.0 [03:10<04:10,  2.26s/it]\u001b[A\u001b[A\n",
      "\n",
      " 44%|████▍     | 86/196.0 [03:12<04:08,  2.26s/it]\u001b[A\u001b[A\n",
      "\n",
      " 44%|████▍     | 87/196.0 [03:15<04:05,  2.25s/it]\u001b[A\u001b[A\n",
      "\n",
      " 45%|████▍     | 88/196.0 [03:17<04:02,  2.25s/it]\u001b[A\u001b[A\n",
      "\n",
      " 45%|████▌     | 89/196.0 [03:19<04:01,  2.25s/it]\u001b[A\u001b[A\n",
      "\n",
      " 46%|████▌     | 90/196.0 [03:21<03:58,  2.25s/it]\u001b[A\u001b[A\n",
      "\n",
      " 46%|████▋     | 91/196.0 [03:24<03:56,  2.25s/it]\u001b[A\u001b[A\n",
      "\n",
      " 47%|████▋     | 92/196.0 [03:26<03:54,  2.25s/it]\u001b[A\u001b[A\n",
      "\n",
      " 47%|████▋     | 93/196.0 [03:28<03:52,  2.25s/it]\u001b[A\u001b[A\n",
      "\n",
      " 48%|████▊     | 94/196.0 [03:30<03:50,  2.26s/it]\u001b[A\u001b[A\n",
      "\n",
      " 48%|████▊     | 95/196.0 [03:33<03:46,  2.24s/it]\u001b[A\u001b[A\n",
      "\n",
      " 49%|████▉     | 96/196.0 [03:35<03:45,  2.25s/it]\u001b[A\u001b[A\n",
      "\n",
      " 49%|████▉     | 97/196.0 [03:37<03:42,  2.25s/it]\u001b[A\u001b[A\n",
      "\n",
      " 50%|█████     | 98/196.0 [03:39<03:40,  2.25s/it]\u001b[A\u001b[A\n",
      "\n",
      " 51%|█████     | 99/196.0 [03:42<03:38,  2.25s/it]\u001b[A\u001b[A\n",
      "\n",
      " 51%|█████     | 100/196.0 [03:44<03:36,  2.25s/it]\u001b[A\u001b[A\n",
      "\n",
      " 52%|█████▏    | 101/196.0 [03:46<03:34,  2.26s/it]\u001b[A\u001b[A\n",
      "\n",
      " 52%|█████▏    | 102/196.0 [03:48<03:30,  2.24s/it]\u001b[A\u001b[A\n",
      "\n",
      " 53%|█████▎    | 103/196.0 [03:51<03:28,  2.25s/it]\u001b[A\u001b[A\n",
      "\n",
      " 53%|█████▎    | 104/196.0 [03:53<03:27,  2.25s/it]\u001b[A\u001b[A\n",
      "\n",
      " 54%|█████▎    | 105/196.0 [03:55<03:25,  2.25s/it]\u001b[A\u001b[A\n",
      "\n",
      " 54%|█████▍    | 106/196.0 [03:57<03:22,  2.25s/it]\u001b[A\u001b[A\n",
      "\n",
      " 55%|█████▍    | 107/196.0 [04:00<03:20,  2.25s/it]\u001b[A\u001b[A\n",
      "\n",
      " 55%|█████▌    | 108/196.0 [04:02<03:18,  2.25s/it]\u001b[A\u001b[A\n",
      "\n",
      " 56%|█████▌    | 109/196.0 [04:04<03:15,  2.25s/it]\u001b[A\u001b[A\n",
      "\n",
      " 56%|█████▌    | 110/196.0 [04:06<03:13,  2.25s/it]\u001b[A\u001b[A\n",
      "\n",
      " 57%|█████▋    | 111/196.0 [04:09<03:10,  2.25s/it]\u001b[A\u001b[A\n",
      "\n",
      " 57%|█████▋    | 112/196.0 [04:11<03:08,  2.24s/it]\u001b[A\u001b[A\n",
      "\n",
      " 58%|█████▊    | 113/196.0 [04:13<03:06,  2.25s/it]\u001b[A\u001b[A\n",
      "\n",
      " 58%|█████▊    | 114/196.0 [04:15<03:04,  2.24s/it]\u001b[A\u001b[A\n",
      "\n",
      " 59%|█████▊    | 115/196.0 [04:18<03:01,  2.24s/it]\u001b[A\u001b[A\n",
      "\n",
      " 59%|█████▉    | 116/196.0 [04:20<02:59,  2.24s/it]\u001b[A\u001b[A\n",
      "\n",
      " 60%|█████▉    | 117/196.0 [04:22<02:57,  2.25s/it]\u001b[A\u001b[A\n",
      "\n",
      " 60%|██████    | 118/196.0 [04:24<02:55,  2.24s/it]\u001b[A\u001b[A\n",
      "\n",
      " 61%|██████    | 119/196.0 [04:27<02:52,  2.24s/it]\u001b[A\u001b[A\n",
      "\n",
      " 61%|██████    | 120/196.0 [04:29<02:50,  2.25s/it]\u001b[A\u001b[A\n",
      "\n",
      " 62%|██████▏   | 121/196.0 [04:31<02:48,  2.25s/it]\u001b[A\u001b[A\n",
      "\n",
      " 62%|██████▏   | 122/196.0 [04:33<02:46,  2.25s/it]\u001b[A\u001b[A\n",
      "\n",
      " 63%|██████▎   | 123/196.0 [04:36<02:43,  2.24s/it]\u001b[A\u001b[A\n",
      "\n",
      " 63%|██████▎   | 124/196.0 [04:38<02:42,  2.25s/it]\u001b[A\u001b[A\n",
      "\n",
      " 64%|██████▍   | 125/196.0 [04:40<02:39,  2.25s/it]\u001b[A\u001b[A\n",
      "\n",
      " 64%|██████▍   | 126/196.0 [04:42<02:37,  2.25s/it]\u001b[A\u001b[A\n",
      "\n",
      " 65%|██████▍   | 127/196.0 [04:45<02:35,  2.25s/it]\u001b[A\u001b[A\n",
      "\n",
      " 65%|██████▌   | 128/196.0 [04:47<02:32,  2.25s/it]\u001b[A\u001b[A\n",
      "\n",
      " 66%|██████▌   | 129/196.0 [04:49<02:30,  2.24s/it]\u001b[A\u001b[A\n",
      "\n",
      " 66%|██████▋   | 130/196.0 [04:51<02:28,  2.25s/it]\u001b[A\u001b[A\n",
      "\n",
      " 67%|██████▋   | 131/196.0 [04:54<02:25,  2.25s/it]\u001b[A\u001b[A\n",
      "\n",
      " 67%|██████▋   | 132/196.0 [04:56<02:24,  2.25s/it]\u001b[A\u001b[A\n",
      "\n",
      " 68%|██████▊   | 133/196.0 [04:58<02:21,  2.25s/it]\u001b[A\u001b[A\n",
      "\n",
      " 68%|██████▊   | 134/196.0 [05:00<02:19,  2.25s/it]\u001b[A\u001b[A\n",
      "\n",
      " 69%|██████▉   | 135/196.0 [05:03<02:16,  2.24s/it]\u001b[A\u001b[A\n",
      "\n",
      " 69%|██████▉   | 136/196.0 [05:05<02:14,  2.24s/it]\u001b[A\u001b[A\n",
      "\n",
      " 70%|██████▉   | 137/196.0 [05:07<02:12,  2.25s/it]\u001b[A\u001b[A\n",
      "\n",
      " 70%|███████   | 138/196.0 [05:09<02:10,  2.25s/it]\u001b[A\u001b[A\n",
      "\n",
      " 71%|███████   | 139/196.0 [05:12<02:08,  2.25s/it]\u001b[A\u001b[A\n",
      "\n",
      " 71%|███████▏  | 140/196.0 [05:14<02:05,  2.25s/it]\u001b[A\u001b[A\n",
      "\n",
      " 72%|███████▏  | 141/196.0 [05:16<02:03,  2.25s/it]\u001b[A\u001b[A\n",
      "\n",
      " 72%|███████▏  | 142/196.0 [05:18<02:01,  2.25s/it]\u001b[A\u001b[A\n",
      "\n",
      " 73%|███████▎  | 143/196.0 [05:21<01:58,  2.24s/it]\u001b[A\u001b[A\n",
      "\n",
      " 73%|███████▎  | 144/196.0 [05:23<01:56,  2.24s/it]\u001b[A\u001b[A\n",
      "\n",
      " 74%|███████▍  | 145/196.0 [05:25<01:54,  2.25s/it]\u001b[A\u001b[A\n",
      "\n",
      " 74%|███████▍  | 146/196.0 [05:27<01:52,  2.24s/it]\u001b[A\u001b[A\n",
      "\n",
      " 75%|███████▌  | 147/196.0 [05:30<01:50,  2.25s/it]\u001b[A\u001b[A\n",
      "\n",
      " 76%|███████▌  | 148/196.0 [05:32<01:47,  2.24s/it]\u001b[A\u001b[A\n",
      "\n",
      " 76%|███████▌  | 149/196.0 [05:34<01:45,  2.24s/it]\u001b[A\u001b[A\n",
      "\n",
      " 77%|███████▋  | 150/196.0 [05:36<01:43,  2.25s/it]\u001b[A\u001b[A\n",
      "\n",
      " 77%|███████▋  | 151/196.0 [05:39<01:40,  2.24s/it]\u001b[A\u001b[A\n",
      "\n",
      " 78%|███████▊  | 152/196.0 [05:41<01:39,  2.25s/it]\u001b[A\u001b[A\n",
      "\n",
      " 78%|███████▊  | 153/196.0 [05:43<01:36,  2.25s/it]\u001b[A\u001b[A\n",
      "\n",
      " 79%|███████▊  | 154/196.0 [05:45<01:34,  2.25s/it]\u001b[A\u001b[A\n",
      "\n",
      " 79%|███████▉  | 155/196.0 [05:48<01:32,  2.25s/it]\u001b[A\u001b[A\n",
      "\n",
      " 80%|███████▉  | 156/196.0 [05:50<01:30,  2.26s/it]\u001b[A\u001b[A\n",
      "\n",
      " 80%|████████  | 157/196.0 [05:52<01:27,  2.25s/it]\u001b[A\u001b[A\n",
      "\n",
      " 81%|████████  | 158/196.0 [05:54<01:25,  2.24s/it]\u001b[A\u001b[A\n",
      "\n",
      " 81%|████████  | 159/196.0 [05:57<01:23,  2.25s/it]\u001b[A\u001b[A\n",
      "\n",
      " 82%|████████▏ | 160/196.0 [05:59<01:20,  2.24s/it]\u001b[A\u001b[A\n",
      "\n",
      " 82%|████████▏ | 161/196.0 [06:01<01:18,  2.24s/it]\u001b[A\u001b[A\n",
      "\n",
      " 83%|████████▎ | 162/196.0 [06:03<01:16,  2.25s/it]\u001b[A\u001b[A\n",
      "\n",
      " 83%|████████▎ | 163/196.0 [06:05<01:14,  2.25s/it]\u001b[A\u001b[A\n",
      "\n",
      " 84%|████████▎ | 164/196.0 [06:08<01:12,  2.25s/it]\u001b[A\u001b[A\n",
      "\n",
      " 84%|████████▍ | 165/196.0 [06:10<01:09,  2.25s/it]\u001b[A\u001b[A\n",
      "\n",
      " 85%|████████▍ | 166/196.0 [06:12<01:07,  2.25s/it]\u001b[A\u001b[A\n",
      "\n",
      " 85%|████████▌ | 167/196.0 [06:14<01:05,  2.25s/it]\u001b[A\u001b[A\n",
      "\n",
      " 86%|████████▌ | 168/196.0 [06:17<01:02,  2.24s/it]\u001b[A\u001b[A\n",
      "\n",
      " 86%|████████▌ | 169/196.0 [06:19<01:00,  2.25s/it]\u001b[A\u001b[A\n",
      "\n",
      " 87%|████████▋ | 170/196.0 [06:21<00:58,  2.25s/it]\u001b[A\u001b[A\n",
      "\n",
      " 87%|████████▋ | 171/196.0 [06:24<00:56,  2.26s/it]\u001b[A\u001b[A\n",
      "\n",
      " 88%|████████▊ | 172/196.0 [06:26<00:53,  2.25s/it]\u001b[A\u001b[A\n",
      "\n",
      " 88%|████████▊ | 173/196.0 [06:28<00:51,  2.25s/it]\u001b[A\u001b[A\n",
      "\n",
      " 89%|████████▉ | 174/196.0 [06:30<00:49,  2.25s/it]\u001b[A\u001b[A\n",
      "\n",
      " 89%|████████▉ | 175/196.0 [06:32<00:47,  2.24s/it]\u001b[A\u001b[A\n",
      "\n",
      " 90%|████████▉ | 176/196.0 [06:35<00:45,  2.26s/it]\u001b[A\u001b[A\n",
      "\n",
      " 90%|█████████ | 177/196.0 [06:37<00:42,  2.26s/it]\u001b[A\u001b[A\n",
      "\n",
      " 91%|█████████ | 178/196.0 [06:39<00:40,  2.26s/it]\u001b[A\u001b[A\n",
      "\n",
      " 91%|█████████▏| 179/196.0 [06:42<00:38,  2.25s/it]\u001b[A\u001b[A\n",
      "\n",
      " 92%|█████████▏| 180/196.0 [06:44<00:36,  2.26s/it]\u001b[A\u001b[A\n",
      "\n",
      " 92%|█████████▏| 181/196.0 [06:46<00:33,  2.25s/it]\u001b[A\u001b[A\n",
      "\n",
      " 93%|█████████▎| 182/196.0 [06:48<00:31,  2.26s/it]\u001b[A\u001b[A\n",
      "\n",
      " 93%|█████████▎| 183/196.0 [06:51<00:29,  2.25s/it]\u001b[A\u001b[A\n",
      "\n",
      " 94%|█████████▍| 184/196.0 [06:53<00:27,  2.26s/it]\u001b[A\u001b[A\n",
      "\n",
      " 94%|█████████▍| 185/196.0 [06:55<00:24,  2.25s/it]\u001b[A\u001b[A\n",
      "\n",
      " 95%|█████████▍| 186/196.0 [06:57<00:22,  2.25s/it]\u001b[A\u001b[A\n",
      "\n",
      " 95%|█████████▌| 187/196.0 [07:00<00:20,  2.25s/it]\u001b[A\u001b[A\n",
      "\n",
      " 96%|█████████▌| 188/196.0 [07:02<00:17,  2.24s/it]\u001b[A\u001b[A\n",
      "\n",
      " 96%|█████████▋| 189/196.0 [07:04<00:15,  2.24s/it]\u001b[A\u001b[A\n",
      "\n",
      " 97%|█████████▋| 190/196.0 [07:06<00:13,  2.24s/it]\u001b[A\u001b[A\n",
      "\n",
      " 97%|█████████▋| 191/196.0 [07:09<00:11,  2.25s/it]\u001b[A\u001b[A\n",
      "\n",
      " 98%|█████████▊| 192/196.0 [07:11<00:09,  2.25s/it]\u001b[A\u001b[A\n",
      "\n",
      " 98%|█████████▊| 193/196.0 [07:13<00:06,  2.24s/it]\u001b[A\u001b[A\n",
      "\n",
      " 99%|█████████▉| 194/196.0 [07:15<00:04,  2.25s/it]\u001b[A\u001b[A\n",
      "\n",
      " 99%|█████████▉| 195/196.0 [07:18<00:02,  2.25s/it]\u001b[A\u001b[A"
     ]
    },
    {
     "name": "stdout",
     "output_type": "stream",
     "text": [
      "[  1.4556e-10   5.9033e-01   1.3232e-07 ...,   1.6239e-10   1.4533e-10   1.0000e+00]\n"
     ]
    }
   ],
   "source": [
    "import math\n",
    "from tqdm import tqdm\n",
    "\n",
    "predict_file = path + 'models/predict.bc'\n",
    "\n",
    "def predict_test():\n",
    "    batches = vgg.get_batches(path+folderName, batch_size=test_batch_size, shuffle=False, class_mode=None)\n",
    "\n",
    "    p_results = np.zeros(num_test_images)\n",
    "    current_index = 0\n",
    "    # Iterative loop\n",
    "    for batch in tqdm(batches, total=math.ceil(num_test_images/test_batch_size)):\n",
    "        if batch is None:\n",
    "            break\n",
    "        p = vgg.model.predict_on_batch(batch)\n",
    "        p_dog = p[:, 1]\n",
    "        p_size = p.shape[0]\n",
    "    #     print('Predictions: {}\\n Size: {}'.format(dog_p, p_size))\n",
    "        new_index = current_index + p_size\n",
    "        p_results[current_index:new_index] = p_dog\n",
    "        current_index = new_index\n",
    "        if current_index >= num_test_images:\n",
    "            break\n",
    "    print(p_results)\n",
    "    utils.save_array(predict_file, p_results)\n",
    "    return p_results\n",
    "\n",
    "if os.path.exists(predict_file):\n",
    "    p_results = utils.load_array(predict_file)\n",
    "    print('Loaded predictions from cache')\n",
    "else:\n",
    "    p_results = predict_test()"
   ]
  },
  {
   "cell_type": "code",
   "execution_count": null,
   "metadata": {
    "collapsed": false
   },
   "outputs": [],
   "source": [
    "# Verify the arrays match\n",
    "print(p_results.shape)\n",
    "print(len(file_ids))"
   ]
  },
  {
   "cell_type": "code",
   "execution_count": 17,
   "metadata": {
    "collapsed": true
   },
   "outputs": [],
   "source": [
    "# Clip results for better log loss\n",
    "clipped_results = np.clip(p_results, 0.03, 0.97)\n",
    "\n",
    "clipped_file = path + 'models/clip.bc'\n",
    "utils.save_array(clipped_file, clipped_results)"
   ]
  },
  {
   "cell_type": "code",
   "execution_count": null,
   "metadata": {
    "collapsed": true
   },
   "outputs": [],
   "source": [
    "# Load saved clip file\n",
    "clipped_file = path + 'models/clip.bc'\n",
    "clipped_results = load_array(clipped_file)"
   ]
  },
  {
   "cell_type": "markdown",
   "metadata": {},
   "source": [
    "### Combine ids with labels and save"
   ]
  },
  {
   "cell_type": "code",
   "execution_count": 19,
   "metadata": {
    "collapsed": false,
    "scrolled": true
   },
   "outputs": [
    {
     "name": "stdout",
     "output_type": "stream",
     "text": [
      "          id  label\n",
      "7082       1   0.97\n",
      "4067       2   0.97\n",
      "3558       3   0.97\n",
      "5730       4   0.97\n",
      "2852       5   0.03\n",
      "3896       6   0.03\n",
      "9565       7   0.03\n",
      "8351       8   0.03\n",
      "9270       9   0.03\n",
      "6412      10   0.03\n",
      "2542      11   0.03\n",
      "7466      12   0.97\n",
      "11948     13   0.03\n",
      "2109      14   0.03\n",
      "9974      15   0.03\n",
      "5419      16   0.03\n",
      "1423      17   0.97\n",
      "280       18   0.97\n",
      "12187     19   0.03\n",
      "8931      20   0.03\n",
      "6847      21   0.97\n",
      "2026      22   0.03\n",
      "1513      23   0.97\n",
      "1853      24   0.97\n",
      "3409      25   0.03\n",
      "10229     26   0.97\n",
      "843       27   0.97\n",
      "4989      28   0.03\n",
      "10705     29   0.03\n",
      "12150     30   0.97\n",
      "...      ...    ...\n",
      "7870   12471   0.97\n",
      "11187  12472   0.97\n",
      "9323   12473   0.03\n",
      "6014   12474   0.03\n",
      "1768   12475   0.03\n",
      "503    12476   0.97\n",
      "4461   12477   0.97\n",
      "3674   12478   0.97\n",
      "12148  12479   0.03\n",
      "3069   12480   0.03\n",
      "2017   12481   0.03\n",
      "12428  12482   0.03\n",
      "9444   12483   0.03\n",
      "8808   12484   0.97\n",
      "4155   12485   0.03\n",
      "3222   12486   0.97\n",
      "6638   12487   0.97\n",
      "10322  12488   0.97\n",
      "9519   12489   0.97\n",
      "10050  12490   0.97\n",
      "4656   12491   0.97\n",
      "4776   12492   0.97\n",
      "4471   12493   0.97\n",
      "1504   12494   0.97\n",
      "3129   12495   0.03\n",
      "4618   12496   0.03\n",
      "11676  12497   0.03\n",
      "391    12498   0.97\n",
      "6654   12499   0.97\n",
      "459    12500   0.03\n",
      "\n",
      "[12500 rows x 2 columns]\n"
     ]
    }
   ],
   "source": [
    "import pandas as pd\n",
    "\n",
    "agg = pd.DataFrame({'id': file_ids, 'label': clipped_results})\n",
    "agg = agg.sort_values(['id'])\n",
    "print(agg)\n",
    "agg.to_csv(path + 'clipped.csv', index=False)\n"
   ]
  },
  {
   "cell_type": "markdown",
   "metadata": {},
   "source": [
    "\n",
    "\n",
    "\n",
    "\n",
    "\n",
    "\n"
   ]
  },
  {
   "cell_type": "markdown",
   "metadata": {},
   "source": [
    "------"
   ]
  },
  {
   "cell_type": "markdown",
   "metadata": {},
   "source": [
    "## Implementing VGG with Keras Backend"
   ]
  },
  {
   "cell_type": "code",
   "execution_count": null,
   "metadata": {
    "collapsed": true
   },
   "outputs": [],
   "source": [
    "from numpy.random import random, permutation\n",
    "from scipy import misc, ndimage\n",
    "from scipy.ndimage.interpolation import zoom\n",
    "\n",
    "import keras\n",
    "from keras import backend as K\n",
    "from keras.utils.data_utils import get_file\n",
    "from keras.models import Sequential, Model\n",
    "from keras.layers.core import Flatten, Dense, Dropout, Lambda\n",
    "from keras.layers import Input\n",
    "from keras.layers.convolutional import Convolution2D, MaxPooling2D, ZeroPadding2D\n",
    "from keras.optimizers import SGD, RMSprop\n",
    "from keras.preprocessing import image"
   ]
  },
  {
   "cell_type": "code",
   "execution_count": null,
   "metadata": {
    "collapsed": false
   },
   "outputs": [],
   "source": [
    "FILES_PATH = 'http://files.fast.ai/models/'\n",
    "CLASS_FILE='imagenet_class_index.json'\n",
    "fpath = get_file(CLASS_FILE, FILES_PATH+CLASS_FILE, cache_subdir='models')\n",
    "with open(fpath) as f:\n",
    "    class_dict = json.load(f)\n",
    "# classes = [class_dict[i][1] for i in class_dict]\n",
    "classes = [class_dict[str(i)][1] for i in range(len(class_dict))] # original"
   ]
  },
  {
   "cell_type": "markdown",
   "metadata": {},
   "source": [
    "## Model creation"
   ]
  },
  {
   "cell_type": "code",
   "execution_count": null,
   "metadata": {
    "collapsed": true
   },
   "outputs": [],
   "source": [
    "def ConvBlock(layers, model, filters):\n",
    "    for i in range(layers): \n",
    "        model.add(ZeroPadding2D((1,1)))\n",
    "        model.add(Convolution2D(filters, 3, 3, activation='relu'))\n",
    "    model.add(MaxPooling2D((2,2), strides=(2,2)))"
   ]
  },
  {
   "cell_type": "code",
   "execution_count": null,
   "metadata": {
    "collapsed": true
   },
   "outputs": [],
   "source": [
    "def FCBlock(model):\n",
    "    model.add(Dense(4096, activation='relu'))\n",
    "    model.add(Dropout(0.5))"
   ]
  },
  {
   "cell_type": "code",
   "execution_count": null,
   "metadata": {
    "collapsed": true
   },
   "outputs": [],
   "source": [
    "# ??Convolution2D\n",
    "\n",
    "# ??MaxPooling2D\n",
    "\n",
    "# ??Dense"
   ]
  },
  {
   "cell_type": "code",
   "execution_count": null,
   "metadata": {
    "collapsed": true
   },
   "outputs": [],
   "source": [
    "# Mean of each channel as provided by VGG researchers\n",
    "vgg_mean = np.array([123.68, 116.779, 103.939]).reshape((3,1,1))\n",
    "\n",
    "def vgg_preprocess(x):\n",
    "    x = x - vgg_mean     # subtract mean\n",
    "    return x[:, ::-1]    # reverse axis bgr->rgb"
   ]
  },
  {
   "cell_type": "code",
   "execution_count": null,
   "metadata": {
    "collapsed": true
   },
   "outputs": [],
   "source": [
    "def VGG_16():\n",
    "    model = Sequential()\n",
    "    model.add(Lambda(vgg_preprocess, input_shape=(3,224,224)))\n",
    "\n",
    "    ConvBlock(2, model, 64)\n",
    "    ConvBlock(2, model, 128)\n",
    "    ConvBlock(3, model, 256)\n",
    "    ConvBlock(3, model, 512)\n",
    "    ConvBlock(3, model, 512)\n",
    "\n",
    "    model.add(Flatten())\n",
    "    FCBlock(model)\n",
    "    FCBlock(model)\n",
    "    model.add(Dense(1000, activation='softmax'))\n",
    "    return model"
   ]
  },
  {
   "cell_type": "code",
   "execution_count": null,
   "metadata": {
    "collapsed": true
   },
   "outputs": [],
   "source": [
    "??MaxPooling2D\n",
    "\n",
    "??Dense"
   ]
  },
  {
   "cell_type": "code",
   "execution_count": null,
   "metadata": {
    "collapsed": false,
    "scrolled": true
   },
   "outputs": [],
   "source": [
    "model = VGG_16()"
   ]
  },
  {
   "cell_type": "code",
   "execution_count": null,
   "metadata": {
    "collapsed": true
   },
   "outputs": [],
   "source": [
    "fpath = get_file('vgg16.h5', FILES_PATH+'vgg16.h5', cache_subdir='models')\n",
    "model.load_weights(fpath)"
   ]
  },
  {
   "cell_type": "code",
   "execution_count": null,
   "metadata": {
    "collapsed": true
   },
   "outputs": [],
   "source": [
    "batch_size=4"
   ]
  },
  {
   "cell_type": "code",
   "execution_count": null,
   "metadata": {
    "collapsed": true
   },
   "outputs": [],
   "source": [
    "def get_batches(dirname, gen=image.ImageDataGenerator(), shuffle=True, \n",
    "                batch_size=batch_size, class_mode='categorical'):\n",
    "    return gen.flow_from_directory(path+dirname, target_size=(224,224), \n",
    "                class_mode=class_mode, shuffle=shuffle, batch_size=batch_size)"
   ]
  },
  {
   "cell_type": "code",
   "execution_count": null,
   "metadata": {
    "collapsed": false
   },
   "outputs": [],
   "source": [
    "batches = get_batches('train', batch_size=batch_size)\n",
    "val_batches = get_batches('valid', batch_size=batch_size)\n",
    "imgs,labels = next(batches)\n",
    "\n",
    "# This shows the 'ground truth'\n",
    "plots(imgs, titles=labels)"
   ]
  },
  {
   "cell_type": "code",
   "execution_count": null,
   "metadata": {
    "collapsed": true
   },
   "outputs": [],
   "source": [
    "def pred_batch(imgs):\n",
    "    preds = model.predict(imgs)\n",
    "    idxs = np.argmax(preds, axis=1)\n",
    "\n",
    "    print('Shape: {}'.format(preds.shape))\n",
    "    print('First 5 classes: {}'.format(classes[:5]))\n",
    "    print('First 5 probabilities: {}\\n'.format(preds[0, :5]))\n",
    "    print('Predictions prob/class: ')\n",
    "    \n",
    "    for i in range(len(idxs)):\n",
    "        idx = idxs[i]\n",
    "        print ('  {:.4f}/{}'.format(preds[i, idx], classes[idx]))"
   ]
  },
  {
   "cell_type": "code",
   "execution_count": null,
   "metadata": {
    "collapsed": false
   },
   "outputs": [],
   "source": [
    "pred_batch(imgs)"
   ]
  },
  {
   "cell_type": "code",
   "execution_count": null,
   "metadata": {
    "collapsed": true
   },
   "outputs": [],
   "source": []
  },
  {
   "cell_type": "code",
   "execution_count": null,
   "metadata": {
    "collapsed": true
   },
   "outputs": [],
   "source": []
  }
 ],
 "metadata": {
  "anaconda-cloud": {},
  "kernelspec": {
   "display_name": "Python [conda root]",
   "language": "python",
   "name": "conda-root-py"
  },
  "language_info": {
   "codemirror_mode": {
    "name": "ipython",
    "version": 2
   },
   "file_extension": ".py",
   "mimetype": "text/x-python",
   "name": "python",
   "nbconvert_exporter": "python",
   "pygments_lexer": "ipython2",
   "version": "2.7.12"
  }
 },
 "nbformat": 4,
 "nbformat_minor": 1
}
