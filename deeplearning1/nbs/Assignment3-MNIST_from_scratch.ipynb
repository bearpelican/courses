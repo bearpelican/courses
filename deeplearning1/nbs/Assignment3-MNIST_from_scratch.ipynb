{
 "cells": [
  {
   "cell_type": "code",
   "execution_count": 5,
   "metadata": {},
   "outputs": [
    {
     "name": "stderr",
     "output_type": "stream",
     "text": [
      "WARNING (theano.sandbox.cuda): The cuda backend is deprecated and will be removed in the next release (v0.10).  Please switch to the gpuarray backend. You can get more information about how to switch at this URL:\n",
      " https://github.com/Theano/Theano/wiki/Converting-to-the-new-gpu-back-end%28gpuarray%29\n",
      "\n",
      "Using gpu device 0: Tesla K80 (CNMeM is disabled, cuDNN 5103)\n",
      "Using Theano backend.\n"
     ]
    }
   ],
   "source": [
    "%matplotlib inline\n",
    "import utils; reload(utils)\n",
    "from utils import *\n",
    "from __future__ import division, print_function\n",
    "\n",
    "from keras.utils.np_utils import to_categorical"
   ]
  },
  {
   "cell_type": "code",
   "execution_count": 6,
   "metadata": {
    "collapsed": true
   },
   "outputs": [],
   "source": [
    "batch_size=64"
   ]
  },
  {
   "cell_type": "code",
   "execution_count": 7,
   "metadata": {},
   "outputs": [
    {
     "data": {
      "text/plain": [
       "((60000, 28, 28), (60000,), (10000, 28, 28), (10000,))"
      ]
     },
     "execution_count": 7,
     "metadata": {},
     "output_type": "execute_result"
    }
   ],
   "source": [
    "from keras.datasets import mnist\n",
    "(X_train, y_train), (X_test, y_test) = mnist.load_data()\n",
    "(X_train.shape, y_train.shape, X_test.shape, y_test.shape)"
   ]
  },
  {
   "cell_type": "markdown",
   "metadata": {},
   "source": [
    "X_train and X_test need to be in dimensions (1000, 1, 28, 28)\n",
    "Keras expects array"
   ]
  },
  {
   "cell_type": "code",
   "execution_count": 8,
   "metadata": {},
   "outputs": [],
   "source": [
    "X_train_resize = X_train[:, np.newaxis, :, :]\n",
    "X_test_resize = X_test[:, np.newaxis, :, :]\n",
    "# print(X_train.shape)\n",
    "# print(X_train_resize.shape)\n",
    "# print(X_train[0])\n",
    "# print(X_train_resize[0])"
   ]
  },
  {
   "cell_type": "markdown",
   "metadata": {},
   "source": [
    "y's need to be one hot encoded"
   ]
  },
  {
   "cell_type": "code",
   "execution_count": 9,
   "metadata": {},
   "outputs": [],
   "source": [
    "y_train_hot = to_categorical(y_train)\n",
    "y_test_hot = to_categorical(y_test)"
   ]
  },
  {
   "cell_type": "markdown",
   "metadata": {},
   "source": [
    "remember to normalize x's"
   ]
  },
  {
   "cell_type": "code",
   "execution_count": 10,
   "metadata": {
    "collapsed": true
   },
   "outputs": [],
   "source": [
    "x_mean = np.mean(X_train_resize, dtype=np.float32)\n",
    "x_std = np.std(X_train_resize, dtype=np.float32)\n",
    "def norm_input(x):\n",
    "    return (x - x_mean) / x_std\n",
    "    "
   ]
  },
  {
   "cell_type": "code",
   "execution_count": 39,
   "metadata": {
    "collapsed": true
   },
   "outputs": [],
   "source": [
    "gen = image.ImageDataGenerator()\n",
    "batches = gen.flow(X_train_resize, y_train_hot)\n",
    "test_batches = gen.flow(X_test_resize, y_test_hot)\n"
   ]
  },
  {
   "cell_type": "code",
   "execution_count": 72,
   "metadata": {},
   "outputs": [
    {
     "data": {
      "text/plain": [
       "4"
      ]
     },
     "execution_count": 72,
     "metadata": {},
     "output_type": "execute_result"
    }
   ],
   "source": [
    "# X_train_resize.shape[1:]\n",
    "# (3,) + (28, 28)\n",
    "X_train.dtype\n",
    "test = norm_input(X_train_resize)\n",
    "test.dtype\n",
    "# print(X_train_resize.shape[1:])\n",
    "test.ndim"
   ]
  },
  {
   "cell_type": "markdown",
   "metadata": {},
   "source": [
    "## Linear Model"
   ]
  },
  {
   "cell_type": "code",
   "execution_count": 100,
   "metadata": {
    "collapsed": true
   },
   "outputs": [],
   "source": [
    "def get_lin_model(norm_input_function):\n",
    "    input_shape = X_train_resize.shape[1:]\n",
    "    return Sequential(layers=[\n",
    "        Lambda(norm_input_function, input_shape=input_shape, output_shape=input_shape),\n",
    "        Flatten(),\n",
    "        Dense(10, activation='softmax')\n",
    "    ])"
   ]
  },
  {
   "cell_type": "code",
   "execution_count": 101,
   "metadata": {
    "collapsed": true
   },
   "outputs": [],
   "source": [
    "lm = get_lin_model(norm_input)\n",
    "lm.compile(Adam(lr=0.01), loss='categorical_crossentropy', metrics=['accuracy'])"
   ]
  },
  {
   "cell_type": "code",
   "execution_count": 102,
   "metadata": {},
   "outputs": [
    {
     "name": "stdout",
     "output_type": "stream",
     "text": [
      "____________________________________________________________________________________________________\n",
      "Layer (type)                     Output Shape          Param #     Connected to                     \n",
      "====================================================================================================\n",
      "lambda_16 (Lambda)               (None, 1, 28, 28)     0           lambda_input_15[0][0]            \n",
      "____________________________________________________________________________________________________\n",
      "flatten_2 (Flatten)              (None, 784)           0           lambda_16[0][0]                  \n",
      "____________________________________________________________________________________________________\n",
      "dense_16 (Dense)                 (None, 10)            7850        flatten_2[0][0]                  \n",
      "====================================================================================================\n",
      "Total params: 7,850\n",
      "Trainable params: 7,850\n",
      "Non-trainable params: 0\n",
      "____________________________________________________________________________________________________\n"
     ]
    }
   ],
   "source": [
    "lm.summary()"
   ]
  },
  {
   "cell_type": "markdown",
   "metadata": {},
   "source": [
    "run fit (epoch 1)"
   ]
  },
  {
   "cell_type": "code",
   "execution_count": 105,
   "metadata": {},
   "outputs": [
    {
     "name": "stdout",
     "output_type": "stream",
     "text": [
      "Epoch 1/1\n",
      "64/64 [==============================] - 1s - loss: 1.6140 - acc: 0.5000 - val_loss: 1.2176 - val_acc: 0.6151\n"
     ]
    },
    {
     "data": {
      "text/plain": [
       "<keras.callbacks.History at 0x7fc4b6cb3390>"
      ]
     },
     "execution_count": 105,
     "metadata": {},
     "output_type": "execute_result"
    }
   ],
   "source": [
    "lm.fit_generator(batches, samples_per_epoch=batch_size, nb_epoch=1, \n",
    "                 validation_data=test_batches, nb_val_samples=y_test_hot.shape[0])"
   ]
  },
  {
   "cell_type": "code",
   "execution_count": 106,
   "metadata": {
    "collapsed": true
   },
   "outputs": [],
   "source": [
    "lm.optimizer.lr = 0.1"
   ]
  },
  {
   "cell_type": "code",
   "execution_count": 108,
   "metadata": {},
   "outputs": [
    {
     "name": "stdout",
     "output_type": "stream",
     "text": [
      "Epoch 1/1\n",
      "64/64 [==============================] - 1s - loss: 0.7869 - acc: 0.7188 - val_loss: 0.9233 - val_acc: 0.7308\n"
     ]
    },
    {
     "data": {
      "text/plain": [
       "<keras.callbacks.History at 0x7fc4b6ca8f90>"
      ]
     },
     "execution_count": 108,
     "metadata": {},
     "output_type": "execute_result"
    }
   ],
   "source": [
    "lm.fit_generator(batches, samples_per_epoch=batch_size, nb_epoch=1, \n",
    "                 validation_data=test_batches, nb_val_samples=y_test_hot.shape[0])"
   ]
  },
  {
   "cell_type": "markdown",
   "metadata": {},
   "source": [
    "run fit (epoch 1)"
   ]
  },
  {
   "cell_type": "code",
   "execution_count": 109,
   "metadata": {
    "collapsed": true
   },
   "outputs": [],
   "source": [
    "lm.optimizer.lr = 0.01"
   ]
  },
  {
   "cell_type": "code",
   "execution_count": 110,
   "metadata": {},
   "outputs": [
    {
     "name": "stdout",
     "output_type": "stream",
     "text": [
      "Epoch 1/1\n",
      "64/64 [==============================] - 1s - loss: 0.7225 - acc: 0.7969 - val_loss: 1.0506 - val_acc: 0.7187\n"
     ]
    },
    {
     "data": {
      "text/plain": [
       "<keras.callbacks.History at 0x7fc4d86d5590>"
      ]
     },
     "execution_count": 110,
     "metadata": {},
     "output_type": "execute_result"
    }
   ],
   "source": [
    "lm.fit_generator(batches, samples_per_epoch=batch_size, nb_epoch=1, \n",
    "                 validation_data=test_batches, nb_val_samples=y_test_hot.shape[0])"
   ]
  },
  {
   "cell_type": "markdown",
   "metadata": {},
   "source": [
    "run fit (epoch 4)"
   ]
  },
  {
   "cell_type": "markdown",
   "metadata": {},
   "source": [
    "## Single Dense Layer"
   ]
  },
  {
   "cell_type": "code",
   "execution_count": 113,
   "metadata": {
    "collapsed": true
   },
   "outputs": [],
   "source": [
    "def get_fc_model():\n",
    "    input_shape = X_train_resize.shape[1:]\n",
    "    model = Sequential(layers=[\n",
    "        Lambda(norm_input, input_shape=input_shape, output_shape=input_shape),\n",
    "        Flatten(),\n",
    "        Dense(512, activation='relu'),\n",
    "        Dense(10, activation='softmax')\n",
    "    ])\n",
    "    #Sequential\n",
    "    #Dense - 512\n",
    "    return model"
   ]
  },
  {
   "cell_type": "code",
   "execution_count": 118,
   "metadata": {
    "collapsed": true
   },
   "outputs": [],
   "source": [
    "fc = get_fc_model()\n",
    "fc.compile(Adam(), loss='categorical_crossentropy', metrics=['accuracy'])"
   ]
  },
  {
   "cell_type": "markdown",
   "metadata": {},
   "source": [
    "run fit (epoch 1)"
   ]
  },
  {
   "cell_type": "code",
   "execution_count": 119,
   "metadata": {},
   "outputs": [
    {
     "name": "stdout",
     "output_type": "stream",
     "text": [
      "Epoch 1/1\n",
      "64/64 [==============================] - 1s - loss: 2.5918 - acc: 0.1406 - val_loss: 2.0577 - val_acc: 0.3323\n"
     ]
    },
    {
     "data": {
      "text/plain": [
       "<keras.callbacks.History at 0x7fc4b5825fd0>"
      ]
     },
     "execution_count": 119,
     "metadata": {},
     "output_type": "execute_result"
    }
   ],
   "source": [
    "fc.fit_generator(batches, samples_per_epoch=batch_size, nb_epoch=1,\n",
    "                 validation_data=test_batches, nb_val_samples=y_test_hot.shape[0])"
   ]
  },
  {
   "cell_type": "code",
   "execution_count": 120,
   "metadata": {
    "collapsed": true
   },
   "outputs": [],
   "source": [
    "fc.optimizer.lr = 0.1"
   ]
  },
  {
   "cell_type": "code",
   "execution_count": 121,
   "metadata": {},
   "outputs": [
    {
     "name": "stdout",
     "output_type": "stream",
     "text": [
      "Epoch 1/4\n",
      "64/64 [==============================] - 1s - loss: 2.1412 - acc: 0.2969 - val_loss: 1.4717 - val_acc: 0.5028\n",
      "Epoch 2/4\n",
      "64/64 [==============================] - 1s - loss: 1.5354 - acc: 0.5469 - val_loss: 1.1167 - val_acc: 0.6543\n",
      "Epoch 3/4\n",
      "64/64 [==============================] - 1s - loss: 0.9864 - acc: 0.6875 - val_loss: 0.9290 - val_acc: 0.7009\n",
      "Epoch 4/4\n",
      "64/64 [==============================] - 1s - loss: 0.9427 - acc: 0.7812 - val_loss: 0.8100 - val_acc: 0.7315\n"
     ]
    },
    {
     "data": {
      "text/plain": [
       "<keras.callbacks.History at 0x7fc4b61d88d0>"
      ]
     },
     "execution_count": 121,
     "metadata": {},
     "output_type": "execute_result"
    }
   ],
   "source": [
    "fc.fit_generator(batches, samples_per_epoch=batch_size, nb_epoch=4,\n",
    "                 validation_data=test_batches, nb_val_samples=y_test_hot.shape[0])"
   ]
  },
  {
   "cell_type": "markdown",
   "metadata": {},
   "source": [
    "run fit (epoch 4)"
   ]
  },
  {
   "cell_type": "code",
   "execution_count": 122,
   "metadata": {
    "collapsed": true
   },
   "outputs": [],
   "source": [
    "fc.optimizer.lr = 0.01"
   ]
  },
  {
   "cell_type": "code",
   "execution_count": 123,
   "metadata": {},
   "outputs": [
    {
     "name": "stdout",
     "output_type": "stream",
     "text": [
      "Epoch 1/4\n",
      "64/64 [==============================] - 1s - loss: 0.9236 - acc: 0.6875 - val_loss: 0.6765 - val_acc: 0.7843\n",
      "Epoch 2/4\n",
      "64/64 [==============================] - 1s - loss: 0.7349 - acc: 0.7969 - val_loss: 0.6010 - val_acc: 0.8153\n",
      "Epoch 3/4\n",
      "64/64 [==============================] - 1s - loss: 0.7384 - acc: 0.7812 - val_loss: 0.6098 - val_acc: 0.8055\n",
      "Epoch 4/4\n",
      "64/64 [==============================] - 1s - loss: 0.4997 - acc: 0.7812 - val_loss: 0.6151 - val_acc: 0.8122\n"
     ]
    },
    {
     "data": {
      "text/plain": [
       "<keras.callbacks.History at 0x7fc4ce70a090>"
      ]
     },
     "execution_count": 123,
     "metadata": {},
     "output_type": "execute_result"
    }
   ],
   "source": [
    "fc.fit_generator(batches, samples_per_epoch=batch_size, nb_epoch=4,\n",
    "                 validation_data=test_batches, nb_val_samples=y_test_hot.shape[0])"
   ]
  },
  {
   "cell_type": "markdown",
   "metadata": {},
   "source": [
    "run fit (epoch 4)"
   ]
  },
  {
   "cell_type": "markdown",
   "metadata": {},
   "source": [
    "## Basic 'VGG-style' CNN"
   ]
  },
  {
   "cell_type": "code",
   "execution_count": 47,
   "metadata": {},
   "outputs": [],
   "source": [
    "def get_model():\n",
    "    x_shape = X_train_resize.shape[1:]\n",
    "    model = Sequential(layers=[\n",
    "        Lambda(norm_input, output_shape=x_shape, input_shape=x_shape),\n",
    "        Convolution2D(32, 3, 3, subsample=(1, 1), activation='relu'),\n",
    "        Convolution2D(32, 3, 3, subsample=(1, 1), activation='relu'),\n",
    "        MaxPooling2D(pool_size=(2, 2), strides=(2, 2)),\n",
    "        Convolution2D(64, 3, 3, subsample=(1, 1), activation='relu'),\n",
    "        Convolution2D(64, 3, 3, subsample=(1, 1), activation='relu'),\n",
    "        MaxPooling2D(pool_size=(2, 2), strides=(2, 2)),\n",
    "        Flatten(),\n",
    "#         Dense(4096, activation='relu')\n",
    "        Dense(1024, activation='relu'),\n",
    "        Dropout(0.3),\n",
    "        Dense(10, activation='softmax')\n",
    "    ])\n",
    "    return model\n",
    "    "
   ]
  },
  {
   "cell_type": "code",
   "execution_count": 48,
   "metadata": {},
   "outputs": [],
   "source": [
    "model = get_model()\n",
    "model.compile(optimizer=Adam(), loss='categorical_crossentropy', metrics=['accuracy'])"
   ]
  },
  {
   "cell_type": "markdown",
   "metadata": {},
   "source": [
    "run fit (epoch 1)"
   ]
  },
  {
   "cell_type": "code",
   "execution_count": 49,
   "metadata": {},
   "outputs": [
    {
     "name": "stdout",
     "output_type": "stream",
     "text": [
      "Epoch 1/1\n",
      "64/64 [==============================] - 2s - loss: 2.2808 - acc: 0.1719 - val_loss: 2.2356 - val_acc: 0.1725\n"
     ]
    },
    {
     "data": {
      "text/plain": [
       "<keras.callbacks.History at 0x7f8207769090>"
      ]
     },
     "execution_count": 49,
     "metadata": {},
     "output_type": "execute_result"
    }
   ],
   "source": [
    "model.fit_generator(batches, samples_per_epoch=batch_size, nb_epoch=1,\n",
    "                 validation_data=test_batches, nb_val_samples=y_test_hot.shape[0])"
   ]
  },
  {
   "cell_type": "code",
   "execution_count": null,
   "metadata": {
    "collapsed": true
   },
   "outputs": [],
   "source": [
    "model.optimizer.lr = 0.1"
   ]
  },
  {
   "cell_type": "markdown",
   "metadata": {},
   "source": [
    "run fit (epoch 1)"
   ]
  },
  {
   "cell_type": "code",
   "execution_count": 51,
   "metadata": {},
   "outputs": [
    {
     "name": "stdout",
     "output_type": "stream",
     "text": [
      "Epoch 1/4\n",
      "64/64 [==============================] - 2s - loss: 0.9642 - acc: 0.7500 - val_loss: 0.6965 - val_acc: 0.7882\n",
      "Epoch 2/4\n",
      "64/64 [==============================] - 2s - loss: 0.8888 - acc: 0.6719 - val_loss: 0.6060 - val_acc: 0.8009\n",
      "Epoch 3/4\n",
      "64/64 [==============================] - 2s - loss: 0.7336 - acc: 0.7656 - val_loss: 0.5097 - val_acc: 0.8398\n",
      "Epoch 4/4\n",
      "64/64 [==============================] - 2s - loss: 0.8539 - acc: 0.7969 - val_loss: 0.5373 - val_acc: 0.8245\n"
     ]
    },
    {
     "data": {
      "text/plain": [
       "<keras.callbacks.History at 0x7f820724cf50>"
      ]
     },
     "execution_count": 51,
     "metadata": {},
     "output_type": "execute_result"
    }
   ],
   "source": [
    "model.fit_generator(batches, samples_per_epoch=batch_size, nb_epoch=4,\n",
    "                 validation_data=test_batches, nb_val_samples=y_test_hot.shape[0])"
   ]
  },
  {
   "cell_type": "code",
   "execution_count": null,
   "metadata": {
    "collapsed": true
   },
   "outputs": [],
   "source": [
    "model.optimizer.lr = 0.01"
   ]
  },
  {
   "cell_type": "markdown",
   "metadata": {},
   "source": [
    "run fit (epoch 8)"
   ]
  },
  {
   "cell_type": "code",
   "execution_count": 52,
   "metadata": {},
   "outputs": [
    {
     "name": "stdout",
     "output_type": "stream",
     "text": [
      "Epoch 1/8\n",
      "64/64 [==============================] - 3s - loss: 0.8632 - acc: 0.7656 - val_loss: 0.4514 - val_acc: 0.8537\n",
      "Epoch 2/8\n",
      "64/64 [==============================] - 2s - loss: 0.3445 - acc: 0.8750 - val_loss: 0.5181 - val_acc: 0.8527\n",
      "Epoch 3/8\n",
      "64/64 [==============================] - 2s - loss: 0.6807 - acc: 0.7969 - val_loss: 0.5267 - val_acc: 0.8496\n",
      "Epoch 4/8\n",
      "64/64 [==============================] - 2s - loss: 0.5108 - acc: 0.8438 - val_loss: 0.4645 - val_acc: 0.8674\n",
      "Epoch 5/8\n",
      "64/64 [==============================] - 2s - loss: 0.5467 - acc: 0.7812 - val_loss: 0.4019 - val_acc: 0.8856\n",
      "Epoch 6/8\n",
      "64/64 [==============================] - 2s - loss: 0.2366 - acc: 0.9531 - val_loss: 0.3789 - val_acc: 0.8873\n",
      "Epoch 7/8\n",
      "64/64 [==============================] - 2s - loss: 0.6181 - acc: 0.7812 - val_loss: 0.3621 - val_acc: 0.8825\n",
      "Epoch 8/8\n",
      "64/64 [==============================] - 3s - loss: 0.2848 - acc: 0.9219 - val_loss: 0.3581 - val_acc: 0.8769\n"
     ]
    },
    {
     "data": {
      "text/plain": [
       "<keras.callbacks.History at 0x7f820724ccd0>"
      ]
     },
     "execution_count": 52,
     "metadata": {},
     "output_type": "execute_result"
    }
   ],
   "source": [
    "model.fit_generator(batches, samples_per_epoch=batch_size, nb_epoch=8,\n",
    "                 validation_data=test_batches, nb_val_samples=y_test_hot.shape[0])"
   ]
  },
  {
   "cell_type": "markdown",
   "metadata": {},
   "source": [
    "## Data augmentation"
   ]
  },
  {
   "cell_type": "code",
   "execution_count": null,
   "metadata": {
    "collapsed": true
   },
   "outputs": [],
   "source": [
    "model = get_model()\n",
    "# L C C M C C M F D D"
   ]
  },
  {
   "cell_type": "code",
   "execution_count": 62,
   "metadata": {
    "collapsed": true
   },
   "outputs": [],
   "source": [
    "# gen = image.ImageDataGenerator(rotation_range=10, zoom_range=[.9, 1.1], width_shift_range=.1, height_shift_range=.1)\n",
    "gen = image.ImageDataGenerator(rotation_range=8, width_shift_range=0.08, shear_range=0.3,\n",
    "                               height_shift_range=0.08, zoom_range=0.08)\n",
    "batches = gen.flow(X_train_resize, y_train_hot)\n",
    "test_batches = gen.flow(X_test_resize, y_test_hot)"
   ]
  },
  {
   "cell_type": "markdown",
   "metadata": {},
   "source": [
    "run fit (epoch 1)"
   ]
  },
  {
   "cell_type": "code",
   "execution_count": 54,
   "metadata": {},
   "outputs": [
    {
     "name": "stdout",
     "output_type": "stream",
     "text": [
      "Epoch 1/1\n",
      "64/64 [==============================] - 2s - loss: 1.2523 - acc: 0.6875 - val_loss: 1.1184 - val_acc: 0.6413\n"
     ]
    },
    {
     "data": {
      "text/plain": [
       "<keras.callbacks.History at 0x7f82123eead0>"
      ]
     },
     "execution_count": 54,
     "metadata": {},
     "output_type": "execute_result"
    }
   ],
   "source": [
    "model.fit_generator(batches, samples_per_epoch=batch_size, nb_epoch=1,\n",
    "                 validation_data=test_batches, nb_val_samples=y_test_hot.shape[0])"
   ]
  },
  {
   "cell_type": "code",
   "execution_count": 55,
   "metadata": {
    "collapsed": true
   },
   "outputs": [],
   "source": [
    "model.optimizer.lr = 0.1"
   ]
  },
  {
   "cell_type": "markdown",
   "metadata": {},
   "source": [
    "run fit (epoch 4)"
   ]
  },
  {
   "cell_type": "code",
   "execution_count": 54,
   "metadata": {},
   "outputs": [
    {
     "name": "stdout",
     "output_type": "stream",
     "text": [
      "Epoch 1/1\n",
      "64/64 [==============================] - 2s - loss: 1.2523 - acc: 0.6875 - val_loss: 1.1184 - val_acc: 0.6413\n"
     ]
    },
    {
     "data": {
      "text/plain": [
       "<keras.callbacks.History at 0x7f82123eead0>"
      ]
     },
     "execution_count": 54,
     "metadata": {},
     "output_type": "execute_result"
    }
   ],
   "source": [
    "model.fit_generator(batches, samples_per_epoch=batch_size, nb_epoch=4,\n",
    "                 validation_data=test_batches, nb_val_samples=y_test_hot.shape[0])"
   ]
  },
  {
   "cell_type": "code",
   "execution_count": 56,
   "metadata": {
    "collapsed": true
   },
   "outputs": [],
   "source": [
    "model.optimizer.lr = 0.01"
   ]
  },
  {
   "cell_type": "markdown",
   "metadata": {},
   "source": [
    "run fit (epoch 8)"
   ]
  },
  {
   "cell_type": "code",
   "execution_count": 57,
   "metadata": {},
   "outputs": [
    {
     "name": "stdout",
     "output_type": "stream",
     "text": [
      "Epoch 1/8\n",
      "64/64 [==============================] - 2s - loss: 1.0882 - acc: 0.6562 - val_loss: 1.0707 - val_acc: 0.6463\n",
      "Epoch 2/8\n",
      "64/64 [==============================] - 2s - loss: 1.4595 - acc: 0.5469 - val_loss: 0.9763 - val_acc: 0.6917\n",
      "Epoch 3/8\n",
      "64/64 [==============================] - 2s - loss: 1.0070 - acc: 0.6719 - val_loss: 1.0287 - val_acc: 0.6974\n",
      "Epoch 4/8\n",
      "64/64 [==============================] - 2s - loss: 1.0822 - acc: 0.6406 - val_loss: 1.0405 - val_acc: 0.6888\n",
      "Epoch 5/8\n",
      "64/64 [==============================] - 2s - loss: 1.0109 - acc: 0.6406 - val_loss: 0.9187 - val_acc: 0.7260\n",
      "Epoch 6/8\n",
      "64/64 [==============================] - 2s - loss: 1.0123 - acc: 0.6562 - val_loss: 0.8400 - val_acc: 0.7418\n",
      "Epoch 7/8\n",
      "64/64 [==============================] - 2s - loss: 0.8344 - acc: 0.7500 - val_loss: 0.7837 - val_acc: 0.7469\n",
      "Epoch 8/8\n",
      "64/64 [==============================] - 2s - loss: 0.9048 - acc: 0.7031 - val_loss: 0.7195 - val_acc: 0.7646\n"
     ]
    },
    {
     "data": {
      "text/plain": [
       "<keras.callbacks.History at 0x7f820724cad0>"
      ]
     },
     "execution_count": 57,
     "metadata": {},
     "output_type": "execute_result"
    }
   ],
   "source": [
    "model.fit_generator(batches, samples_per_epoch=batch_size, nb_epoch=8,\n",
    "                 validation_data=test_batches, nb_val_samples=y_test_hot.shape[0])"
   ]
  },
  {
   "cell_type": "code",
   "execution_count": 58,
   "metadata": {
    "collapsed": true
   },
   "outputs": [],
   "source": [
    "model.optimizer.lr = 0.001"
   ]
  },
  {
   "cell_type": "markdown",
   "metadata": {},
   "source": [
    "run fit (epoch 14)"
   ]
  },
  {
   "cell_type": "code",
   "execution_count": 59,
   "metadata": {},
   "outputs": [
    {
     "name": "stdout",
     "output_type": "stream",
     "text": [
      "Epoch 1/14\n",
      "64/64 [==============================] - 2s - loss: 0.6205 - acc: 0.7500 - val_loss: 0.6891 - val_acc: 0.7755\n",
      "Epoch 2/14\n",
      "64/64 [==============================] - 2s - loss: 0.5853 - acc: 0.8125 - val_loss: 0.6663 - val_acc: 0.7801\n",
      "Epoch 3/14\n",
      "64/64 [==============================] - 2s - loss: 0.9480 - acc: 0.7031 - val_loss: 0.6114 - val_acc: 0.7978\n",
      "Epoch 4/14\n",
      "64/64 [==============================] - 2s - loss: 0.7151 - acc: 0.7344 - val_loss: 0.5931 - val_acc: 0.8033\n",
      "Epoch 5/14\n",
      "64/64 [==============================] - 2s - loss: 0.4479 - acc: 0.8750 - val_loss: 0.6520 - val_acc: 0.7870\n",
      "Epoch 6/14\n",
      "64/64 [==============================] - 2s - loss: 0.8870 - acc: 0.7656 - val_loss: 0.6089 - val_acc: 0.8018\n",
      "Epoch 7/14\n",
      "64/64 [==============================] - 2s - loss: 0.5239 - acc: 0.8281 - val_loss: 0.5285 - val_acc: 0.8298\n",
      "Epoch 8/14\n",
      "64/64 [==============================] - 2s - loss: 0.4591 - acc: 0.8594 - val_loss: 0.5968 - val_acc: 0.8042\n",
      "Epoch 9/14\n",
      "64/64 [==============================] - 2s - loss: 0.5938 - acc: 0.7344 - val_loss: 0.6397 - val_acc: 0.7907\n",
      "Epoch 10/14\n",
      "64/64 [==============================] - 2s - loss: 0.6229 - acc: 0.7031 - val_loss: 0.5586 - val_acc: 0.8190\n",
      "Epoch 11/14\n",
      "64/64 [==============================] - 2s - loss: 0.4894 - acc: 0.9062 - val_loss: 0.5573 - val_acc: 0.8255\n",
      "Epoch 12/14\n",
      "64/64 [==============================] - 2s - loss: 0.5091 - acc: 0.8125 - val_loss: 0.5187 - val_acc: 0.8377\n",
      "Epoch 13/14\n",
      "64/64 [==============================] - 2s - loss: 0.5704 - acc: 0.8125 - val_loss: 0.4618 - val_acc: 0.8610\n",
      "Epoch 14/14\n",
      "64/64 [==============================] - 2s - loss: 0.4169 - acc: 0.8750 - val_loss: 0.4401 - val_acc: 0.8606\n"
     ]
    },
    {
     "data": {
      "text/plain": [
       "<keras.callbacks.History at 0x7f820724cc10>"
      ]
     },
     "execution_count": 59,
     "metadata": {},
     "output_type": "execute_result"
    }
   ],
   "source": [
    "model.fit_generator(batches, samples_per_epoch=batch_size, nb_epoch=14,\n",
    "                 validation_data=test_batches, nb_val_samples=y_test_hot.shape[0])"
   ]
  },
  {
   "cell_type": "code",
   "execution_count": 60,
   "metadata": {
    "collapsed": true
   },
   "outputs": [],
   "source": [
    "model.optimizer.lr = 0.0001"
   ]
  },
  {
   "cell_type": "markdown",
   "metadata": {},
   "source": [
    "run fit (epoch 10)"
   ]
  },
  {
   "cell_type": "code",
   "execution_count": 61,
   "metadata": {},
   "outputs": [
    {
     "name": "stdout",
     "output_type": "stream",
     "text": [
      "Epoch 1/10\n",
      "64/64 [==============================] - 2s - loss: 0.5564 - acc: 0.7969 - val_loss: 0.4836 - val_acc: 0.8402\n",
      "Epoch 2/10\n",
      "64/64 [==============================] - 2s - loss: 0.5560 - acc: 0.8125 - val_loss: 0.4745 - val_acc: 0.8473\n",
      "Epoch 3/10\n",
      "64/64 [==============================] - 2s - loss: 0.5600 - acc: 0.8125 - val_loss: 0.5487 - val_acc: 0.8279\n",
      "Epoch 4/10\n",
      "64/64 [==============================] - 2s - loss: 0.4922 - acc: 0.8906 - val_loss: 0.5546 - val_acc: 0.8299\n",
      "Epoch 5/10\n",
      "64/64 [==============================] - 2s - loss: 0.8677 - acc: 0.7344 - val_loss: 0.4611 - val_acc: 0.8569\n",
      "Epoch 6/10\n",
      "64/64 [==============================] - 2s - loss: 0.3769 - acc: 0.8750 - val_loss: 0.4868 - val_acc: 0.8387\n",
      "Epoch 7/10\n",
      "64/64 [==============================] - 2s - loss: 0.5791 - acc: 0.7812 - val_loss: 0.4698 - val_acc: 0.8522\n",
      "Epoch 8/10\n",
      "64/64 [==============================] - 2s - loss: 0.5328 - acc: 0.7969 - val_loss: 0.4592 - val_acc: 0.8549\n",
      "Epoch 9/10\n",
      "64/64 [==============================] - 2s - loss: 0.4967 - acc: 0.8281 - val_loss: 0.4940 - val_acc: 0.8374\n",
      "Epoch 10/10\n",
      "64/64 [==============================] - 2s - loss: 0.6889 - acc: 0.7656 - val_loss: 0.4748 - val_acc: 0.8531\n"
     ]
    },
    {
     "data": {
      "text/plain": [
       "<keras.callbacks.History at 0x7f82123eef50>"
      ]
     },
     "execution_count": 61,
     "metadata": {},
     "output_type": "execute_result"
    }
   ],
   "source": [
    "model.fit_generator(batches, samples_per_epoch=batch_size, nb_epoch=10,\n",
    "                 validation_data=test_batches, nb_val_samples=y_test_hot.shape[0])"
   ]
  },
  {
   "cell_type": "markdown",
   "metadata": {},
   "source": [
    "## Batchnorm + data augmentation"
   ]
  },
  {
   "cell_type": "code",
   "execution_count": null,
   "metadata": {
    "collapsed": true
   },
   "outputs": [],
   "source": [
    "def get_model_bn():\n",
    "    # L C B C M B C B C M F B D B D"
   ]
  },
  {
   "cell_type": "markdown",
   "metadata": {},
   "source": [
    "run fit (epoch 1)"
   ]
  },
  {
   "cell_type": "code",
   "execution_count": null,
   "metadata": {
    "collapsed": true
   },
   "outputs": [],
   "source": [
    "model.optimizer.lr = 0.1"
   ]
  },
  {
   "cell_type": "markdown",
   "metadata": {},
   "source": [
    "run fit (epoch 4)"
   ]
  },
  {
   "cell_type": "code",
   "execution_count": null,
   "metadata": {
    "collapsed": true
   },
   "outputs": [],
   "source": [
    "model.optimizer.lr = 0.01"
   ]
  },
  {
   "cell_type": "markdown",
   "metadata": {},
   "source": [
    "run fit (epoch 12)"
   ]
  },
  {
   "cell_type": "code",
   "execution_count": null,
   "metadata": {
    "collapsed": true
   },
   "outputs": [],
   "source": [
    "model.optimizer.lr = 0.001"
   ]
  },
  {
   "cell_type": "markdown",
   "metadata": {},
   "source": [
    "run fit (epoch 12)"
   ]
  },
  {
   "cell_type": "markdown",
   "metadata": {},
   "source": [
    "## Batchnorm + dropout + data augmentation"
   ]
  },
  {
   "cell_type": "code",
   "execution_count": 68,
   "metadata": {},
   "outputs": [],
   "source": [
    "def get_model_bn_do():\n",
    "    x_shape = X_train_resize.shape[1:]\n",
    "    # L C B C M B C B C M F B D B D D\n",
    "    return Sequential(layers=[\n",
    "        Lambda(norm_input, input_shape=x_shape, output_shape=output_shape),\n",
    "        Convolution2D(32, 3, 3, activation='relu'),\n",
    "        BatchNormalization(axis=1),\n",
    "        Convolution2D(32, 3, 3, activation='relu'),\n",
    "        MaxPooling2D(pool_size=(2, 2), strides=(2, 2)),\n",
    "        BatchNormalization(axis=1),\n",
    "        Convolution2D(64, 3, 3, activation='relu'),\n",
    "        BatchNormalization(axis=1),\n",
    "        Convolution2D(64, 3, 3, activation='relu'),\n",
    "        MaxPooling2D(pool_size=(2, 2), strides=(2, 2)),\n",
    "        Flatten(),\n",
    "        BatchNormalization(),\n",
    "        Dense(512, activation='relu'),\n",
    "        BatchNormalization(),\n",
    "        Dropout(0.5),\n",
    "        Dense(10, activation='softmax'),\n",
    "    ])"
   ]
  },
  {
   "cell_type": "code",
   "execution_count": 69,
   "metadata": {
    "collapsed": true
   },
   "outputs": [],
   "source": [
    "bn_model = get_model()\n",
    "bn_model.compile(optimizer=Adam(), loss='categorical_crossentropy', metrics=['accuracy'])"
   ]
  },
  {
   "cell_type": "code",
   "execution_count": 70,
   "metadata": {},
   "outputs": [
    {
     "name": "stdout",
     "output_type": "stream",
     "text": [
      "Epoch 1/14\n",
      "64/64 [==============================] - 2s - loss: 2.3066 - acc: 0.0938 - val_loss: 2.2945 - val_acc: 0.1915\n",
      "Epoch 2/14\n",
      "64/64 [==============================] - 2s - loss: 2.3950 - acc: 0.1406 - val_loss: 2.2386 - val_acc: 0.3539\n",
      "Epoch 3/14\n",
      "64/64 [==============================] - 2s - loss: 2.2312 - acc: 0.2812 - val_loss: 2.2332 - val_acc: 0.2542\n",
      "Epoch 4/14\n",
      "64/64 [==============================] - 2s - loss: 2.1748 - acc: 0.2969 - val_loss: 2.1947 - val_acc: 0.2611\n",
      "Epoch 5/14\n",
      "64/64 [==============================] - 2s - loss: 2.1798 - acc: 0.2188 - val_loss: 2.0797 - val_acc: 0.3937\n",
      "Epoch 6/14\n",
      "64/64 [==============================] - 2s - loss: 2.0766 - acc: 0.3750 - val_loss: 1.8774 - val_acc: 0.4683\n",
      "Epoch 7/14\n",
      "64/64 [==============================] - 2s - loss: 1.9309 - acc: 0.4844 - val_loss: 1.6268 - val_acc: 0.5890\n",
      "Epoch 8/14\n",
      "64/64 [==============================] - 2s - loss: 1.6154 - acc: 0.5625 - val_loss: 1.3619 - val_acc: 0.5992\n",
      "Epoch 9/14\n",
      "64/64 [==============================] - 2s - loss: 1.5278 - acc: 0.5625 - val_loss: 1.2422 - val_acc: 0.5761\n",
      "Epoch 10/14\n",
      "64/64 [==============================] - 2s - loss: 1.1298 - acc: 0.6250 - val_loss: 1.0221 - val_acc: 0.6615\n",
      "Epoch 11/14\n",
      "64/64 [==============================] - 2s - loss: 1.0489 - acc: 0.6562 - val_loss: 1.0041 - val_acc: 0.6736\n",
      "Epoch 12/14\n",
      "64/64 [==============================] - 2s - loss: 1.0477 - acc: 0.5781 - val_loss: 0.9619 - val_acc: 0.6728\n",
      "Epoch 13/14\n",
      "64/64 [==============================] - 2s - loss: 1.3681 - acc: 0.6094 - val_loss: 0.9353 - val_acc: 0.6879\n",
      "Epoch 14/14\n",
      "64/64 [==============================] - 3s - loss: 1.1022 - acc: 0.6406 - val_loss: 0.8749 - val_acc: 0.7077\n"
     ]
    },
    {
     "data": {
      "text/plain": [
       "<keras.callbacks.History at 0x7f82031fe7d0>"
      ]
     },
     "execution_count": 70,
     "metadata": {},
     "output_type": "execute_result"
    }
   ],
   "source": [
    "bn_model.fit_generator(batches, samples_per_epoch=batch_size, nb_epoch=14,\n",
    "                 validation_data=test_batches, nb_val_samples=y_test_hot.shape[0])"
   ]
  },
  {
   "cell_type": "code",
   "execution_count": null,
   "metadata": {
    "collapsed": true
   },
   "outputs": [],
   "source": []
  }
 ],
 "metadata": {
  "anaconda-cloud": {},
  "kernelspec": {
   "display_name": "Python [conda root]",
   "language": "python",
   "name": "conda-root-py"
  },
  "language_info": {
   "codemirror_mode": {
    "name": "ipython",
    "version": 2
   },
   "file_extension": ".py",
   "mimetype": "text/x-python",
   "name": "python",
   "nbconvert_exporter": "python",
   "pygments_lexer": "ipython2",
   "version": "2.7.12"
  }
 },
 "nbformat": 4,
 "nbformat_minor": 1
}
