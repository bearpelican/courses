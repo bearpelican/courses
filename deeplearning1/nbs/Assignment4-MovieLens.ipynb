{
 "cells": [
  {
   "cell_type": "code",
   "execution_count": 1,
   "metadata": {},
   "outputs": [
    {
     "name": "stderr",
     "output_type": "stream",
     "text": [
      "WARNING (theano.sandbox.cuda): The cuda backend is deprecated and will be removed in the next release (v0.10).  Please switch to the gpuarray backend. You can get more information about how to switch at this URL:\n",
      " https://github.com/Theano/Theano/wiki/Converting-to-the-new-gpu-back-end%28gpuarray%29\n",
      "\n",
      "Using gpu device 0: Tesla K80 (CNMeM is enabled with initial size: 80.0% of memory, cuDNN 5103)\n",
      "Using Theano backend.\n"
     ]
    }
   ],
   "source": [
    "%matplotlib inline\n",
    "import utils; reload(utils)\n",
    "from utils import *\n",
    "from __future__ import division, print_function"
   ]
  },
  {
   "cell_type": "code",
   "execution_count": 2,
   "metadata": {
    "collapsed": true
   },
   "outputs": [],
   "source": [
    "#path = \"data/ml-20m/\"\n",
    "path = \"data/ml-small/\"\n",
    "model_path = path + 'models/'\n",
    "if not os.path.exists(model_path): os.mkdir(model_path)\n",
    "batch_size=64"
   ]
  },
  {
   "cell_type": "code",
   "execution_count": 8,
   "metadata": {},
   "outputs": [
    {
     "data": {
      "text/html": [
       "<div>\n",
       "<style>\n",
       "    .dataframe thead tr:only-child th {\n",
       "        text-align: right;\n",
       "    }\n",
       "\n",
       "    .dataframe thead th {\n",
       "        text-align: left;\n",
       "    }\n",
       "\n",
       "    .dataframe tbody tr th {\n",
       "        vertical-align: top;\n",
       "    }\n",
       "</style>\n",
       "<table border=\"1\" class=\"dataframe\">\n",
       "  <thead>\n",
       "    <tr style=\"text-align: right;\">\n",
       "      <th></th>\n",
       "      <th>userId</th>\n",
       "      <th>movieId</th>\n",
       "      <th>rating</th>\n",
       "      <th>timestamp</th>\n",
       "    </tr>\n",
       "  </thead>\n",
       "  <tbody>\n",
       "    <tr>\n",
       "      <th>0</th>\n",
       "      <td>1</td>\n",
       "      <td>31</td>\n",
       "      <td>2.5</td>\n",
       "      <td>1260759144</td>\n",
       "    </tr>\n",
       "    <tr>\n",
       "      <th>1</th>\n",
       "      <td>1</td>\n",
       "      <td>1029</td>\n",
       "      <td>3.0</td>\n",
       "      <td>1260759179</td>\n",
       "    </tr>\n",
       "    <tr>\n",
       "      <th>2</th>\n",
       "      <td>1</td>\n",
       "      <td>1061</td>\n",
       "      <td>3.0</td>\n",
       "      <td>1260759182</td>\n",
       "    </tr>\n",
       "    <tr>\n",
       "      <th>3</th>\n",
       "      <td>1</td>\n",
       "      <td>1129</td>\n",
       "      <td>2.0</td>\n",
       "      <td>1260759185</td>\n",
       "    </tr>\n",
       "    <tr>\n",
       "      <th>4</th>\n",
       "      <td>1</td>\n",
       "      <td>1172</td>\n",
       "      <td>4.0</td>\n",
       "      <td>1260759205</td>\n",
       "    </tr>\n",
       "  </tbody>\n",
       "</table>\n",
       "</div>"
      ],
      "text/plain": [
       "   userId  movieId  rating   timestamp\n",
       "0       1       31     2.5  1260759144\n",
       "1       1     1029     3.0  1260759179\n",
       "2       1     1061     3.0  1260759182\n",
       "3       1     1129     2.0  1260759185\n",
       "4       1     1172     4.0  1260759205"
      ]
     },
     "execution_count": 8,
     "metadata": {},
     "output_type": "execute_result"
    }
   ],
   "source": [
    "ratings = pd.read_csv(path+'ratings.csv')\n",
    "ratings.head()"
   ]
  },
  {
   "cell_type": "code",
   "execution_count": 10,
   "metadata": {},
   "outputs": [
    {
     "data": {
      "text/plain": [
       "(100004, 4)"
      ]
     },
     "execution_count": 10,
     "metadata": {},
     "output_type": "execute_result"
    }
   ],
   "source": [
    "ratings.shape"
   ]
  },
  {
   "cell_type": "code",
   "execution_count": 154,
   "metadata": {},
   "outputs": [],
   "source": [
    "# movies = pd.read_csv(path+'movies.csv')\n",
    "# movies.head()\n",
    "movie_names = pd.read_csv(path+'movies.csv').set_index('movieId')['title'].to_dict()\n",
    "# movie_names"
   ]
  },
  {
   "cell_type": "code",
   "execution_count": 155,
   "metadata": {
    "collapsed": true
   },
   "outputs": [],
   "source": [
    "userIds = ratings.userId.unique()\n",
    "movieIds = ratings.movieId.unique()"
   ]
  },
  {
   "cell_type": "code",
   "execution_count": 24,
   "metadata": {},
   "outputs": [],
   "source": [
    "userIdToIdx = {uId: idx for idx, uId in enumerate(userIds)}\n",
    "movieIdToIdx = {mId: idx for idx, mId in enumerate(movieIds)}"
   ]
  },
  {
   "cell_type": "code",
   "execution_count": 26,
   "metadata": {},
   "outputs": [],
   "source": [
    "ratings['movieIdx'] = ratings.movieId.apply(lambda x: movieIdToIdx[x])\n",
    "ratings['userIdx'] = ratings.userId.apply(lambda x: userIdToIdx[x])"
   ]
  },
  {
   "cell_type": "code",
   "execution_count": 28,
   "metadata": {},
   "outputs": [
    {
     "data": {
      "text/html": [
       "<div>\n",
       "<style>\n",
       "    .dataframe thead tr:only-child th {\n",
       "        text-align: right;\n",
       "    }\n",
       "\n",
       "    .dataframe thead th {\n",
       "        text-align: left;\n",
       "    }\n",
       "\n",
       "    .dataframe tbody tr th {\n",
       "        vertical-align: top;\n",
       "    }\n",
       "</style>\n",
       "<table border=\"1\" class=\"dataframe\">\n",
       "  <thead>\n",
       "    <tr style=\"text-align: right;\">\n",
       "      <th></th>\n",
       "      <th>userId</th>\n",
       "      <th>movieId</th>\n",
       "      <th>rating</th>\n",
       "      <th>timestamp</th>\n",
       "      <th>movieIdx</th>\n",
       "      <th>userIdx</th>\n",
       "    </tr>\n",
       "  </thead>\n",
       "  <tbody>\n",
       "    <tr>\n",
       "      <th>0</th>\n",
       "      <td>1</td>\n",
       "      <td>31</td>\n",
       "      <td>2.5</td>\n",
       "      <td>1260759144</td>\n",
       "      <td>0</td>\n",
       "      <td>0</td>\n",
       "    </tr>\n",
       "    <tr>\n",
       "      <th>1</th>\n",
       "      <td>1</td>\n",
       "      <td>1029</td>\n",
       "      <td>3.0</td>\n",
       "      <td>1260759179</td>\n",
       "      <td>1</td>\n",
       "      <td>0</td>\n",
       "    </tr>\n",
       "    <tr>\n",
       "      <th>2</th>\n",
       "      <td>1</td>\n",
       "      <td>1061</td>\n",
       "      <td>3.0</td>\n",
       "      <td>1260759182</td>\n",
       "      <td>2</td>\n",
       "      <td>0</td>\n",
       "    </tr>\n",
       "    <tr>\n",
       "      <th>3</th>\n",
       "      <td>1</td>\n",
       "      <td>1129</td>\n",
       "      <td>2.0</td>\n",
       "      <td>1260759185</td>\n",
       "      <td>3</td>\n",
       "      <td>0</td>\n",
       "    </tr>\n",
       "    <tr>\n",
       "      <th>4</th>\n",
       "      <td>1</td>\n",
       "      <td>1172</td>\n",
       "      <td>4.0</td>\n",
       "      <td>1260759205</td>\n",
       "      <td>4</td>\n",
       "      <td>0</td>\n",
       "    </tr>\n",
       "  </tbody>\n",
       "</table>\n",
       "</div>"
      ],
      "text/plain": [
       "   userId  movieId  rating   timestamp  movieIdx  userIdx\n",
       "0       1       31     2.5  1260759144         0        0\n",
       "1       1     1029     3.0  1260759179         1        0\n",
       "2       1     1061     3.0  1260759182         2        0\n",
       "3       1     1129     2.0  1260759185         3        0\n",
       "4       1     1172     4.0  1260759205         4        0"
      ]
     },
     "execution_count": 28,
     "metadata": {},
     "output_type": "execute_result"
    }
   ],
   "source": [
    "ratings.head()"
   ]
  },
  {
   "cell_type": "code",
   "execution_count": 145,
   "metadata": {},
   "outputs": [
    {
     "data": {
      "text/plain": [
       "(0, 670, 0, 9065)"
      ]
     },
     "execution_count": 145,
     "metadata": {},
     "output_type": "execute_result"
    }
   ],
   "source": [
    "user_min, user_max, movie_min, movie_max = (ratings.userIdx.min(), ratings.userIdx.max(), \n",
    "                                            ratings.movieIdx.min(), ratings.movieIdx.max())\n",
    "user_min, user_max, movie_min, movie_max"
   ]
  },
  {
   "cell_type": "code",
   "execution_count": 38,
   "metadata": {},
   "outputs": [
    {
     "data": {
      "text/plain": [
       "(671, 9066)"
      ]
     },
     "execution_count": 38,
     "metadata": {},
     "output_type": "execute_result"
    }
   ],
   "source": [
    "n_users = ratings.userIdx.nunique()\n",
    "n_movies = ratings.movieIdx.nunique()\n",
    "n_users, n_movies"
   ]
  },
  {
   "cell_type": "code",
   "execution_count": 39,
   "metadata": {
    "collapsed": true
   },
   "outputs": [],
   "source": [
    "n_factors = 50\n",
    "np.random.seed = 42"
   ]
  },
  {
   "cell_type": "code",
   "execution_count": 42,
   "metadata": {},
   "outputs": [],
   "source": [
    "msk = np.random.rand(len(ratings)) < 0.8\n",
    "trn = ratings[msk]\n",
    "val = ratings[~msk]"
   ]
  },
  {
   "cell_type": "code",
   "execution_count": 44,
   "metadata": {},
   "outputs": [
    {
     "data": {
      "text/html": [
       "<div>\n",
       "<style>\n",
       "    .dataframe thead tr:only-child th {\n",
       "        text-align: right;\n",
       "    }\n",
       "\n",
       "    .dataframe thead th {\n",
       "        text-align: left;\n",
       "    }\n",
       "\n",
       "    .dataframe tbody tr th {\n",
       "        vertical-align: top;\n",
       "    }\n",
       "</style>\n",
       "<table border=\"1\" class=\"dataframe\">\n",
       "  <thead>\n",
       "    <tr style=\"text-align: right;\">\n",
       "      <th></th>\n",
       "      <th>userId</th>\n",
       "      <th>movieId</th>\n",
       "      <th>rating</th>\n",
       "      <th>timestamp</th>\n",
       "      <th>movieIdx</th>\n",
       "      <th>userIdx</th>\n",
       "    </tr>\n",
       "  </thead>\n",
       "  <tbody>\n",
       "    <tr>\n",
       "      <th>2</th>\n",
       "      <td>1</td>\n",
       "      <td>1061</td>\n",
       "      <td>3.0</td>\n",
       "      <td>1260759182</td>\n",
       "      <td>2</td>\n",
       "      <td>0</td>\n",
       "    </tr>\n",
       "    <tr>\n",
       "      <th>4</th>\n",
       "      <td>1</td>\n",
       "      <td>1172</td>\n",
       "      <td>4.0</td>\n",
       "      <td>1260759205</td>\n",
       "      <td>4</td>\n",
       "      <td>0</td>\n",
       "    </tr>\n",
       "    <tr>\n",
       "      <th>7</th>\n",
       "      <td>1</td>\n",
       "      <td>1293</td>\n",
       "      <td>2.0</td>\n",
       "      <td>1260759148</td>\n",
       "      <td>7</td>\n",
       "      <td>0</td>\n",
       "    </tr>\n",
       "    <tr>\n",
       "      <th>8</th>\n",
       "      <td>1</td>\n",
       "      <td>1339</td>\n",
       "      <td>3.5</td>\n",
       "      <td>1260759125</td>\n",
       "      <td>8</td>\n",
       "      <td>0</td>\n",
       "    </tr>\n",
       "    <tr>\n",
       "      <th>9</th>\n",
       "      <td>1</td>\n",
       "      <td>1343</td>\n",
       "      <td>2.0</td>\n",
       "      <td>1260759131</td>\n",
       "      <td>9</td>\n",
       "      <td>0</td>\n",
       "    </tr>\n",
       "  </tbody>\n",
       "</table>\n",
       "</div>"
      ],
      "text/plain": [
       "   userId  movieId  rating   timestamp  movieIdx  userIdx\n",
       "2       1     1061     3.0  1260759182         2        0\n",
       "4       1     1172     4.0  1260759205         4        0\n",
       "7       1     1293     2.0  1260759148         7        0\n",
       "8       1     1339     3.5  1260759125         8        0\n",
       "9       1     1343     2.0  1260759131         9        0"
      ]
     },
     "execution_count": 44,
     "metadata": {},
     "output_type": "execute_result"
    }
   ],
   "source": [
    "trn.head()"
   ]
  },
  {
   "cell_type": "code",
   "execution_count": 45,
   "metadata": {},
   "outputs": [
    {
     "data": {
      "text/html": [
       "<div>\n",
       "<style>\n",
       "    .dataframe thead tr:only-child th {\n",
       "        text-align: right;\n",
       "    }\n",
       "\n",
       "    .dataframe thead th {\n",
       "        text-align: left;\n",
       "    }\n",
       "\n",
       "    .dataframe tbody tr th {\n",
       "        vertical-align: top;\n",
       "    }\n",
       "</style>\n",
       "<table border=\"1\" class=\"dataframe\">\n",
       "  <thead>\n",
       "    <tr style=\"text-align: right;\">\n",
       "      <th></th>\n",
       "      <th>userId</th>\n",
       "      <th>movieId</th>\n",
       "      <th>rating</th>\n",
       "      <th>timestamp</th>\n",
       "      <th>movieIdx</th>\n",
       "      <th>userIdx</th>\n",
       "    </tr>\n",
       "  </thead>\n",
       "  <tbody>\n",
       "    <tr>\n",
       "      <th>0</th>\n",
       "      <td>1</td>\n",
       "      <td>31</td>\n",
       "      <td>2.5</td>\n",
       "      <td>1260759144</td>\n",
       "      <td>0</td>\n",
       "      <td>0</td>\n",
       "    </tr>\n",
       "    <tr>\n",
       "      <th>1</th>\n",
       "      <td>1</td>\n",
       "      <td>1029</td>\n",
       "      <td>3.0</td>\n",
       "      <td>1260759179</td>\n",
       "      <td>1</td>\n",
       "      <td>0</td>\n",
       "    </tr>\n",
       "    <tr>\n",
       "      <th>3</th>\n",
       "      <td>1</td>\n",
       "      <td>1129</td>\n",
       "      <td>2.0</td>\n",
       "      <td>1260759185</td>\n",
       "      <td>3</td>\n",
       "      <td>0</td>\n",
       "    </tr>\n",
       "    <tr>\n",
       "      <th>5</th>\n",
       "      <td>1</td>\n",
       "      <td>1263</td>\n",
       "      <td>2.0</td>\n",
       "      <td>1260759151</td>\n",
       "      <td>5</td>\n",
       "      <td>0</td>\n",
       "    </tr>\n",
       "    <tr>\n",
       "      <th>6</th>\n",
       "      <td>1</td>\n",
       "      <td>1287</td>\n",
       "      <td>2.0</td>\n",
       "      <td>1260759187</td>\n",
       "      <td>6</td>\n",
       "      <td>0</td>\n",
       "    </tr>\n",
       "  </tbody>\n",
       "</table>\n",
       "</div>"
      ],
      "text/plain": [
       "   userId  movieId  rating   timestamp  movieIdx  userIdx\n",
       "0       1       31     2.5  1260759144         0        0\n",
       "1       1     1029     3.0  1260759179         1        0\n",
       "3       1     1129     2.0  1260759185         3        0\n",
       "5       1     1263     2.0  1260759151         5        0\n",
       "6       1     1287     2.0  1260759187         6        0"
      ]
     },
     "execution_count": 45,
     "metadata": {},
     "output_type": "execute_result"
    }
   ],
   "source": [
    "val.head()"
   ]
  },
  {
   "cell_type": "markdown",
   "metadata": {},
   "source": [
    "## Excel"
   ]
  },
  {
   "cell_type": "code",
   "execution_count": 63,
   "metadata": {},
   "outputs": [],
   "source": [
    "g = ratings.groupby('userIdx')['rating'].count()\n",
    "topUsers = g.sort_values(ascending=False)[:5]"
   ]
  },
  {
   "cell_type": "code",
   "execution_count": 64,
   "metadata": {},
   "outputs": [
    {
     "data": {
      "text/plain": [
       "movieIdx\n",
       "57     341\n",
       "49     324\n",
       "99     311\n",
       "92     304\n",
       "143    291\n",
       "Name: rating, dtype: int64"
      ]
     },
     "execution_count": 64,
     "metadata": {},
     "output_type": "execute_result"
    }
   ],
   "source": [
    "g = ratings.groupby('movieIdx')['rating'].count()\n",
    "topMovies = g.sort_values(ascending=False)[:5]\n",
    "topMovies.head()"
   ]
  },
  {
   "cell_type": "code",
   "execution_count": 65,
   "metadata": {
    "collapsed": true
   },
   "outputs": [],
   "source": [
    "top_r = ratings.join(topUsers, rsuffix='_r', how='inner', on='userIdx')"
   ]
  },
  {
   "cell_type": "code",
   "execution_count": 66,
   "metadata": {},
   "outputs": [
    {
     "data": {
      "text/html": [
       "<div>\n",
       "<style>\n",
       "    .dataframe thead tr:only-child th {\n",
       "        text-align: right;\n",
       "    }\n",
       "\n",
       "    .dataframe thead th {\n",
       "        text-align: left;\n",
       "    }\n",
       "\n",
       "    .dataframe tbody tr th {\n",
       "        vertical-align: top;\n",
       "    }\n",
       "</style>\n",
       "<table border=\"1\" class=\"dataframe\">\n",
       "  <thead>\n",
       "    <tr style=\"text-align: right;\">\n",
       "      <th></th>\n",
       "      <th>userId</th>\n",
       "      <th>movieId</th>\n",
       "      <th>rating</th>\n",
       "      <th>timestamp</th>\n",
       "      <th>movieIdx</th>\n",
       "      <th>userIdx</th>\n",
       "      <th>rating_r</th>\n",
       "      <th>rating_r</th>\n",
       "    </tr>\n",
       "  </thead>\n",
       "  <tbody>\n",
       "    <tr>\n",
       "      <th>1032</th>\n",
       "      <td>15</td>\n",
       "      <td>260</td>\n",
       "      <td>5.0</td>\n",
       "      <td>997938437</td>\n",
       "      <td>143</td>\n",
       "      <td>14</td>\n",
       "      <td>1700</td>\n",
       "      <td>291</td>\n",
       "    </tr>\n",
       "    <tr>\n",
       "      <th>10275</th>\n",
       "      <td>73</td>\n",
       "      <td>260</td>\n",
       "      <td>4.5</td>\n",
       "      <td>1255508202</td>\n",
       "      <td>143</td>\n",
       "      <td>72</td>\n",
       "      <td>1610</td>\n",
       "      <td>291</td>\n",
       "    </tr>\n",
       "    <tr>\n",
       "      <th>82976</th>\n",
       "      <td>564</td>\n",
       "      <td>260</td>\n",
       "      <td>2.0</td>\n",
       "      <td>974710704</td>\n",
       "      <td>143</td>\n",
       "      <td>563</td>\n",
       "      <td>1868</td>\n",
       "      <td>291</td>\n",
       "    </tr>\n",
       "    <tr>\n",
       "      <th>93571</th>\n",
       "      <td>624</td>\n",
       "      <td>260</td>\n",
       "      <td>5.0</td>\n",
       "      <td>1019124071</td>\n",
       "      <td>143</td>\n",
       "      <td>623</td>\n",
       "      <td>1735</td>\n",
       "      <td>291</td>\n",
       "    </tr>\n",
       "    <tr>\n",
       "      <th>1037</th>\n",
       "      <td>15</td>\n",
       "      <td>296</td>\n",
       "      <td>5.0</td>\n",
       "      <td>997938771</td>\n",
       "      <td>49</td>\n",
       "      <td>14</td>\n",
       "      <td>1700</td>\n",
       "      <td>324</td>\n",
       "    </tr>\n",
       "    <tr>\n",
       "      <th>10281</th>\n",
       "      <td>73</td>\n",
       "      <td>296</td>\n",
       "      <td>5.0</td>\n",
       "      <td>1255502790</td>\n",
       "      <td>49</td>\n",
       "      <td>72</td>\n",
       "      <td>1610</td>\n",
       "      <td>324</td>\n",
       "    </tr>\n",
       "    <tr>\n",
       "      <th>78490</th>\n",
       "      <td>547</td>\n",
       "      <td>296</td>\n",
       "      <td>5.0</td>\n",
       "      <td>981314122</td>\n",
       "      <td>49</td>\n",
       "      <td>546</td>\n",
       "      <td>2391</td>\n",
       "      <td>324</td>\n",
       "    </tr>\n",
       "    <tr>\n",
       "      <th>82991</th>\n",
       "      <td>564</td>\n",
       "      <td>296</td>\n",
       "      <td>5.0</td>\n",
       "      <td>974711078</td>\n",
       "      <td>49</td>\n",
       "      <td>563</td>\n",
       "      <td>1868</td>\n",
       "      <td>324</td>\n",
       "    </tr>\n",
       "    <tr>\n",
       "      <th>93573</th>\n",
       "      <td>624</td>\n",
       "      <td>296</td>\n",
       "      <td>5.0</td>\n",
       "      <td>1019132316</td>\n",
       "      <td>49</td>\n",
       "      <td>623</td>\n",
       "      <td>1735</td>\n",
       "      <td>324</td>\n",
       "    </tr>\n",
       "    <tr>\n",
       "      <th>1044</th>\n",
       "      <td>15</td>\n",
       "      <td>318</td>\n",
       "      <td>2.0</td>\n",
       "      <td>997938727</td>\n",
       "      <td>99</td>\n",
       "      <td>14</td>\n",
       "      <td>1700</td>\n",
       "      <td>311</td>\n",
       "    </tr>\n",
       "    <tr>\n",
       "      <th>10284</th>\n",
       "      <td>73</td>\n",
       "      <td>318</td>\n",
       "      <td>5.0</td>\n",
       "      <td>1255502795</td>\n",
       "      <td>99</td>\n",
       "      <td>72</td>\n",
       "      <td>1610</td>\n",
       "      <td>311</td>\n",
       "    </tr>\n",
       "    <tr>\n",
       "      <th>78494</th>\n",
       "      <td>547</td>\n",
       "      <td>318</td>\n",
       "      <td>5.0</td>\n",
       "      <td>1149387505</td>\n",
       "      <td>99</td>\n",
       "      <td>546</td>\n",
       "      <td>2391</td>\n",
       "      <td>311</td>\n",
       "    </tr>\n",
       "    <tr>\n",
       "      <th>1054</th>\n",
       "      <td>15</td>\n",
       "      <td>356</td>\n",
       "      <td>1.0</td>\n",
       "      <td>1058250631</td>\n",
       "      <td>57</td>\n",
       "      <td>14</td>\n",
       "      <td>1700</td>\n",
       "      <td>341</td>\n",
       "    </tr>\n",
       "    <tr>\n",
       "      <th>10295</th>\n",
       "      <td>73</td>\n",
       "      <td>356</td>\n",
       "      <td>5.0</td>\n",
       "      <td>1255844449</td>\n",
       "      <td>57</td>\n",
       "      <td>72</td>\n",
       "      <td>1610</td>\n",
       "      <td>341</td>\n",
       "    </tr>\n",
       "    <tr>\n",
       "      <th>78503</th>\n",
       "      <td>547</td>\n",
       "      <td>356</td>\n",
       "      <td>2.0</td>\n",
       "      <td>986694882</td>\n",
       "      <td>57</td>\n",
       "      <td>546</td>\n",
       "      <td>2391</td>\n",
       "      <td>341</td>\n",
       "    </tr>\n",
       "    <tr>\n",
       "      <th>83028</th>\n",
       "      <td>564</td>\n",
       "      <td>356</td>\n",
       "      <td>3.0</td>\n",
       "      <td>974713872</td>\n",
       "      <td>57</td>\n",
       "      <td>563</td>\n",
       "      <td>1868</td>\n",
       "      <td>341</td>\n",
       "    </tr>\n",
       "    <tr>\n",
       "      <th>93584</th>\n",
       "      <td>624</td>\n",
       "      <td>356</td>\n",
       "      <td>3.0</td>\n",
       "      <td>1019127614</td>\n",
       "      <td>57</td>\n",
       "      <td>623</td>\n",
       "      <td>1735</td>\n",
       "      <td>341</td>\n",
       "    </tr>\n",
       "    <tr>\n",
       "      <th>1105</th>\n",
       "      <td>15</td>\n",
       "      <td>593</td>\n",
       "      <td>5.0</td>\n",
       "      <td>997938500</td>\n",
       "      <td>92</td>\n",
       "      <td>14</td>\n",
       "      <td>1700</td>\n",
       "      <td>304</td>\n",
       "    </tr>\n",
       "    <tr>\n",
       "      <th>10342</th>\n",
       "      <td>73</td>\n",
       "      <td>593</td>\n",
       "      <td>4.5</td>\n",
       "      <td>1281307627</td>\n",
       "      <td>92</td>\n",
       "      <td>72</td>\n",
       "      <td>1610</td>\n",
       "      <td>304</td>\n",
       "    </tr>\n",
       "    <tr>\n",
       "      <th>78559</th>\n",
       "      <td>547</td>\n",
       "      <td>593</td>\n",
       "      <td>5.0</td>\n",
       "      <td>974778314</td>\n",
       "      <td>92</td>\n",
       "      <td>546</td>\n",
       "      <td>2391</td>\n",
       "      <td>304</td>\n",
       "    </tr>\n",
       "    <tr>\n",
       "      <th>83172</th>\n",
       "      <td>564</td>\n",
       "      <td>593</td>\n",
       "      <td>5.0</td>\n",
       "      <td>974711049</td>\n",
       "      <td>92</td>\n",
       "      <td>563</td>\n",
       "      <td>1868</td>\n",
       "      <td>304</td>\n",
       "    </tr>\n",
       "    <tr>\n",
       "      <th>93629</th>\n",
       "      <td>624</td>\n",
       "      <td>593</td>\n",
       "      <td>5.0</td>\n",
       "      <td>1019132717</td>\n",
       "      <td>92</td>\n",
       "      <td>623</td>\n",
       "      <td>1735</td>\n",
       "      <td>304</td>\n",
       "    </tr>\n",
       "  </tbody>\n",
       "</table>\n",
       "</div>"
      ],
      "text/plain": [
       "       userId  movieId  rating   timestamp  movieIdx  userIdx  rating_r  \\\n",
       "1032       15      260     5.0   997938437       143       14      1700   \n",
       "10275      73      260     4.5  1255508202       143       72      1610   \n",
       "82976     564      260     2.0   974710704       143      563      1868   \n",
       "93571     624      260     5.0  1019124071       143      623      1735   \n",
       "1037       15      296     5.0   997938771        49       14      1700   \n",
       "10281      73      296     5.0  1255502790        49       72      1610   \n",
       "78490     547      296     5.0   981314122        49      546      2391   \n",
       "82991     564      296     5.0   974711078        49      563      1868   \n",
       "93573     624      296     5.0  1019132316        49      623      1735   \n",
       "1044       15      318     2.0   997938727        99       14      1700   \n",
       "10284      73      318     5.0  1255502795        99       72      1610   \n",
       "78494     547      318     5.0  1149387505        99      546      2391   \n",
       "1054       15      356     1.0  1058250631        57       14      1700   \n",
       "10295      73      356     5.0  1255844449        57       72      1610   \n",
       "78503     547      356     2.0   986694882        57      546      2391   \n",
       "83028     564      356     3.0   974713872        57      563      1868   \n",
       "93584     624      356     3.0  1019127614        57      623      1735   \n",
       "1105       15      593     5.0   997938500        92       14      1700   \n",
       "10342      73      593     4.5  1281307627        92       72      1610   \n",
       "78559     547      593     5.0   974778314        92      546      2391   \n",
       "83172     564      593     5.0   974711049        92      563      1868   \n",
       "93629     624      593     5.0  1019132717        92      623      1735   \n",
       "\n",
       "       rating_r  \n",
       "1032        291  \n",
       "10275       291  \n",
       "82976       291  \n",
       "93571       291  \n",
       "1037        324  \n",
       "10281       324  \n",
       "78490       324  \n",
       "82991       324  \n",
       "93573       324  \n",
       "1044        311  \n",
       "10284       311  \n",
       "78494       311  \n",
       "1054        341  \n",
       "10295       341  \n",
       "78503       341  \n",
       "83028       341  \n",
       "93584       341  \n",
       "1105        304  \n",
       "10342       304  \n",
       "78559       304  \n",
       "83172       304  \n",
       "93629       304  "
      ]
     },
     "execution_count": 66,
     "metadata": {},
     "output_type": "execute_result"
    }
   ],
   "source": [
    "top_r = top_r.join(topMovies, rsuffix='_r', how='inner', on='movieIdx')\n",
    "top_r"
   ]
  },
  {
   "cell_type": "code",
   "execution_count": 146,
   "metadata": {},
   "outputs": [
    {
     "data": {
      "text/html": [
       "<div>\n",
       "<style>\n",
       "    .dataframe thead tr:only-child th {\n",
       "        text-align: right;\n",
       "    }\n",
       "\n",
       "    .dataframe thead th {\n",
       "        text-align: left;\n",
       "    }\n",
       "\n",
       "    .dataframe tbody tr th {\n",
       "        vertical-align: top;\n",
       "    }\n",
       "</style>\n",
       "<table border=\"1\" class=\"dataframe\">\n",
       "  <thead>\n",
       "    <tr style=\"text-align: right;\">\n",
       "      <th>movieIdx</th>\n",
       "      <th>49</th>\n",
       "      <th>57</th>\n",
       "      <th>92</th>\n",
       "      <th>99</th>\n",
       "      <th>143</th>\n",
       "    </tr>\n",
       "    <tr>\n",
       "      <th>userIdx</th>\n",
       "      <th></th>\n",
       "      <th></th>\n",
       "      <th></th>\n",
       "      <th></th>\n",
       "      <th></th>\n",
       "    </tr>\n",
       "  </thead>\n",
       "  <tbody>\n",
       "    <tr>\n",
       "      <th>14</th>\n",
       "      <td>5.0</td>\n",
       "      <td>1.0</td>\n",
       "      <td>5.0</td>\n",
       "      <td>2.0</td>\n",
       "      <td>5.0</td>\n",
       "    </tr>\n",
       "    <tr>\n",
       "      <th>72</th>\n",
       "      <td>5.0</td>\n",
       "      <td>5.0</td>\n",
       "      <td>4.5</td>\n",
       "      <td>5.0</td>\n",
       "      <td>4.5</td>\n",
       "    </tr>\n",
       "    <tr>\n",
       "      <th>546</th>\n",
       "      <td>5.0</td>\n",
       "      <td>2.0</td>\n",
       "      <td>5.0</td>\n",
       "      <td>5.0</td>\n",
       "      <td>NaN</td>\n",
       "    </tr>\n",
       "    <tr>\n",
       "      <th>563</th>\n",
       "      <td>5.0</td>\n",
       "      <td>3.0</td>\n",
       "      <td>5.0</td>\n",
       "      <td>NaN</td>\n",
       "      <td>2.0</td>\n",
       "    </tr>\n",
       "    <tr>\n",
       "      <th>623</th>\n",
       "      <td>5.0</td>\n",
       "      <td>3.0</td>\n",
       "      <td>5.0</td>\n",
       "      <td>NaN</td>\n",
       "      <td>5.0</td>\n",
       "    </tr>\n",
       "  </tbody>\n",
       "</table>\n",
       "</div>"
      ],
      "text/plain": [
       "movieIdx  49   57   92   99   143\n",
       "userIdx                          \n",
       "14        5.0  1.0  5.0  2.0  5.0\n",
       "72        5.0  5.0  4.5  5.0  4.5\n",
       "546       5.0  2.0  5.0  5.0  NaN\n",
       "563       5.0  3.0  5.0  NaN  2.0\n",
       "623       5.0  3.0  5.0  NaN  5.0"
      ]
     },
     "execution_count": 146,
     "metadata": {},
     "output_type": "execute_result"
    }
   ],
   "source": [
    "pd.crosstab(top_r.userIdx, top_r.movieIdx, top_r.rating, aggfunc=np.mean)"
   ]
  },
  {
   "cell_type": "markdown",
   "metadata": {},
   "source": [
    "## Dot product"
   ]
  },
  {
   "cell_type": "code",
   "execution_count": 78,
   "metadata": {},
   "outputs": [],
   "source": [
    "user_in = Input(shape=(1,), dtype='int64', name='user_in')\n",
    "u = Embedding(n_users, n_factors, input_length=1, W_regularizer=l2(1e-4))(user_in)\n",
    "movie_in = Input(shape=(1,), dtype='int64', name='movie_in')\n",
    "m = Embedding(n_movies, n_factors, input_length=1, W_regularizer=l2(1e-4))(movie_in)"
   ]
  },
  {
   "cell_type": "code",
   "execution_count": 89,
   "metadata": {
    "collapsed": true
   },
   "outputs": [],
   "source": [
    "x = merge([u, m], mode='dot')\n",
    "x = Flatten()(x)\n",
    "model = Model([user_in, movie_in], x)\n",
    "model.compile(Adam(1e-3), loss='mse', metrics=['accuracy'])\n"
   ]
  },
  {
   "cell_type": "code",
   "execution_count": 90,
   "metadata": {},
   "outputs": [
    {
     "name": "stdout",
     "output_type": "stream",
     "text": [
      "Train on 80257 samples, validate on 19747 samples\n",
      "Epoch 1/1\n",
      "80257/80257 [==============================] - 2s - loss: 3.1409 - acc: 0.2575 - val_loss: 2.9965 - val_acc: 0.2591\n"
     ]
    },
    {
     "data": {
      "text/plain": [
       "<keras.callbacks.History at 0x7f44f7e84950>"
      ]
     },
     "execution_count": 90,
     "metadata": {},
     "output_type": "execute_result"
    }
   ],
   "source": [
    "model.fit([trn.userIdx, trn.movieIdx], trn.rating, batch_size=64, nb_epoch=1,\n",
    "          validation_data=([val.userIdx, val.movieIdx], val.rating))"
   ]
  },
  {
   "cell_type": "code",
   "execution_count": 91,
   "metadata": {},
   "outputs": [
    {
     "name": "stdout",
     "output_type": "stream",
     "text": [
      "____________________________________________________________________________________________________\n",
      "Layer (type)                     Output Shape          Param #     Connected to                     \n",
      "====================================================================================================\n",
      "user_in (InputLayer)             (None, 1)             0                                            \n",
      "____________________________________________________________________________________________________\n",
      "movie_in (InputLayer)            (None, 1)             0                                            \n",
      "____________________________________________________________________________________________________\n",
      "embedding_1 (Embedding)          (None, 1, 50)         33550       user_in[0][0]                    \n",
      "____________________________________________________________________________________________________\n",
      "embedding_2 (Embedding)          (None, 1, 50)         453300      movie_in[0][0]                   \n",
      "____________________________________________________________________________________________________\n",
      "merge_2 (Merge)                  (None, 1, 1)          0           embedding_1[0][0]                \n",
      "                                                                   embedding_2[0][0]                \n",
      "____________________________________________________________________________________________________\n",
      "flatten_2 (Flatten)              (None, 1)             0           merge_2[0][0]                    \n",
      "====================================================================================================\n",
      "Total params: 486,850\n",
      "Trainable params: 486,850\n",
      "Non-trainable params: 0\n",
      "____________________________________________________________________________________________________\n"
     ]
    }
   ],
   "source": [
    "model.summary()"
   ]
  },
  {
   "cell_type": "code",
   "execution_count": 92,
   "metadata": {},
   "outputs": [
    {
     "name": "stdout",
     "output_type": "stream",
     "text": [
      "Train on 80257 samples, validate on 19747 samples\n",
      "Epoch 1/6\n",
      "80257/80257 [==============================] - 2s - loss: 2.3486 - acc: 0.3071 - val_loss: 2.7243 - val_acc: 0.2742\n",
      "Epoch 2/6\n",
      "80257/80257 [==============================] - 2s - loss: 2.0937 - acc: 0.3285 - val_loss: 2.6624 - val_acc: 0.2804\n",
      "Epoch 3/6\n",
      "80257/80257 [==============================] - 2s - loss: 1.9939 - acc: 0.3436 - val_loss: 2.6489 - val_acc: 0.2855\n",
      "Epoch 4/6\n",
      "80257/80257 [==============================] - 2s - loss: 1.9513 - acc: 0.3528 - val_loss: 2.6508 - val_acc: 0.2898\n",
      "Epoch 5/6\n",
      "80257/80257 [==============================] - 2s - loss: 1.9279 - acc: 0.3609 - val_loss: 2.6606 - val_acc: 0.2880\n",
      "Epoch 6/6\n",
      "80257/80257 [==============================] - 2s - loss: 1.9131 - acc: 0.3666 - val_loss: 2.6752 - val_acc: 0.2874\n"
     ]
    },
    {
     "data": {
      "text/plain": [
       "<keras.callbacks.History at 0x7f44f7e84c10>"
      ]
     },
     "execution_count": 92,
     "metadata": {},
     "output_type": "execute_result"
    }
   ],
   "source": [
    "model.optimizer.lr = 1e-2\n",
    "model.fit([trn.userIdx, trn.movieIdx], trn.rating, batch_size=64, nb_epoch=6,\n",
    "          validation_data=([val.userIdx, val.movieIdx], val.rating))"
   ]
  },
  {
   "cell_type": "code",
   "execution_count": 93,
   "metadata": {},
   "outputs": [
    {
     "name": "stdout",
     "output_type": "stream",
     "text": [
      "Train on 80257 samples, validate on 19747 samples\n",
      "Epoch 1/6\n",
      "80257/80257 [==============================] - 2s - loss: 1.9011 - acc: 0.3732 - val_loss: 2.6869 - val_acc: 0.2915\n",
      "Epoch 2/6\n",
      "80257/80257 [==============================] - 2s - loss: 1.8898 - acc: 0.3801 - val_loss: 2.6999 - val_acc: 0.2902\n",
      "Epoch 3/6\n",
      "80257/80257 [==============================] - 2s - loss: 1.8824 - acc: 0.3859 - val_loss: 2.7102 - val_acc: 0.2882\n",
      "Epoch 4/6\n",
      "80257/80257 [==============================] - 2s - loss: 1.8721 - acc: 0.3916 - val_loss: 2.7283 - val_acc: 0.2886\n",
      "Epoch 5/6\n",
      "80257/80257 [==============================] - 2s - loss: 1.8669 - acc: 0.3966 - val_loss: 2.7358 - val_acc: 0.2912\n",
      "Epoch 6/6\n",
      "80257/80257 [==============================] - 2s - loss: 1.8589 - acc: 0.4007 - val_loss: 2.7467 - val_acc: 0.2869\n"
     ]
    },
    {
     "data": {
      "text/plain": [
       "<keras.callbacks.History at 0x7f4500979110>"
      ]
     },
     "execution_count": 93,
     "metadata": {},
     "output_type": "execute_result"
    }
   ],
   "source": [
    "model.optimizer.lr = 1e-3\n",
    "model.fit([trn.userIdx, trn.movieIdx], trn.rating, batch_size=64, nb_epoch=6,\n",
    "          validation_data=([val.userIdx, val.movieIdx], val.rating))"
   ]
  },
  {
   "cell_type": "markdown",
   "metadata": {},
   "source": [
    "## Adding Bias Term"
   ]
  },
  {
   "cell_type": "code",
   "execution_count": 123,
   "metadata": {
    "collapsed": true
   },
   "outputs": [],
   "source": [
    "user_in = Input(shape=(1,), dtype='int64', name='user_in')\n",
    "u = Embedding(n_users, n_factors, input_length=1, W_regularizer=l2(1e-4))(user_in)\n",
    "movie_in = Input(shape=(1,), dtype='int64', name='movie_in')\n",
    "m = Embedding(n_movies, n_factors, input_length=1, W_regularizer=l2(1e-4))(movie_in)"
   ]
  },
  {
   "cell_type": "code",
   "execution_count": 124,
   "metadata": {},
   "outputs": [],
   "source": [
    "ub = Embedding(n_users, 1, input_length=1)(user_in)\n",
    "mb = Embedding(n_movies, 1, input_length=1)(movie_in)\n",
    "ub = Flatten()(ub)\n",
    "mb = Flatten()(mb)"
   ]
  },
  {
   "cell_type": "code",
   "execution_count": 125,
   "metadata": {},
   "outputs": [],
   "source": [
    "x = merge([u, m], mode='dot')\n",
    "x = Flatten()(x)\n",
    "x = merge([x, ub], mode='sum')\n",
    "x = merge([x, mb], mode='sum')\n",
    "model = Model([user_in, movie_in], x)\n",
    "model.compile(Adam(1e-3), loss='mse', metrics=['accuracy'])\n"
   ]
  },
  {
   "cell_type": "code",
   "execution_count": 126,
   "metadata": {},
   "outputs": [
    {
     "name": "stdout",
     "output_type": "stream",
     "text": [
      "671\n",
      "9066\n",
      "496587\n",
      "____________________________________________________________________________________________________\n",
      "Layer (type)                     Output Shape          Param #     Connected to                     \n",
      "====================================================================================================\n",
      "user_in (InputLayer)             (None, 1)             0                                            \n",
      "____________________________________________________________________________________________________\n",
      "movie_in (InputLayer)            (None, 1)             0                                            \n",
      "____________________________________________________________________________________________________\n",
      "embedding_27 (Embedding)         (None, 1, 50)         33550       user_in[0][0]                    \n",
      "____________________________________________________________________________________________________\n",
      "embedding_28 (Embedding)         (None, 1, 50)         453300      movie_in[0][0]                   \n",
      "____________________________________________________________________________________________________\n",
      "merge_23 (Merge)                 (None, 1, 1)          0           embedding_27[0][0]               \n",
      "                                                                   embedding_28[0][0]               \n",
      "____________________________________________________________________________________________________\n",
      "embedding_29 (Embedding)         (None, 1, 1)          671         user_in[0][0]                    \n",
      "____________________________________________________________________________________________________\n",
      "flatten_28 (Flatten)             (None, 1)             0           merge_23[0][0]                   \n",
      "____________________________________________________________________________________________________\n",
      "flatten_26 (Flatten)             (None, 1)             0           embedding_29[0][0]               \n",
      "____________________________________________________________________________________________________\n",
      "embedding_30 (Embedding)         (None, 1, 1)          9066        movie_in[0][0]                   \n",
      "____________________________________________________________________________________________________\n",
      "merge_24 (Merge)                 (None, 1)             0           flatten_28[0][0]                 \n",
      "                                                                   flatten_26[0][0]                 \n",
      "____________________________________________________________________________________________________\n",
      "flatten_27 (Flatten)             (None, 1)             0           embedding_30[0][0]               \n",
      "____________________________________________________________________________________________________\n",
      "merge_25 (Merge)                 (None, 1)             0           merge_24[0][0]                   \n",
      "                                                                   flatten_27[0][0]                 \n",
      "====================================================================================================\n",
      "Total params: 496,587\n",
      "Trainable params: 496,587\n",
      "Non-trainable params: 0\n",
      "____________________________________________________________________________________________________\n"
     ]
    }
   ],
   "source": [
    "print(n_users)\n",
    "print(n_movies)\n",
    "print(n_users * 51 + n_movies * 51)\n",
    "model.summary()\n"
   ]
  },
  {
   "cell_type": "code",
   "execution_count": 127,
   "metadata": {},
   "outputs": [
    {
     "name": "stdout",
     "output_type": "stream",
     "text": [
      "Train on 80257 samples, validate on 19747 samples\n",
      "Epoch 1/1\n",
      "80257/80257 [==============================] - 3s - loss: 8.6488 - acc: 0.0486 - val_loss: 3.4593 - val_acc: 0.1593\n"
     ]
    },
    {
     "data": {
      "text/plain": [
       "<keras.callbacks.History at 0x7f44f461d990>"
      ]
     },
     "execution_count": 127,
     "metadata": {},
     "output_type": "execute_result"
    }
   ],
   "source": [
    "model.fit([trn.userIdx, trn.movieIdx], trn.rating, batch_size=64, nb_epoch=1,\n",
    "          validation_data=([val.userIdx, val.movieIdx], val.rating))"
   ]
  },
  {
   "cell_type": "code",
   "execution_count": 128,
   "metadata": {},
   "outputs": [
    {
     "name": "stdout",
     "output_type": "stream",
     "text": [
      "Train on 80257 samples, validate on 19747 samples\n",
      "Epoch 1/6\n",
      "80257/80257 [==============================] - 3s - loss: 2.5609 - acc: 0.2247 - val_loss: 2.3184 - val_acc: 0.2590\n",
      "Epoch 2/6\n",
      "80257/80257 [==============================] - 3s - loss: 2.0007 - acc: 0.2802 - val_loss: 2.1189 - val_acc: 0.2820\n",
      "Epoch 3/6\n",
      "80257/80257 [==============================] - 3s - loss: 1.8430 - acc: 0.2965 - val_loss: 2.0241 - val_acc: 0.2879\n",
      "Epoch 4/6\n",
      "80257/80257 [==============================] - 3s - loss: 1.7486 - acc: 0.3039 - val_loss: 1.9469 - val_acc: 0.2924\n",
      "Epoch 5/6\n",
      "80257/80257 [==============================] - 3s - loss: 1.6696 - acc: 0.3085 - val_loss: 1.8763 - val_acc: 0.2941\n",
      "Epoch 6/6\n",
      "80257/80257 [==============================] - 3s - loss: 1.5946 - acc: 0.3143 - val_loss: 1.8081 - val_acc: 0.2965\n"
     ]
    },
    {
     "data": {
      "text/plain": [
       "<keras.callbacks.History at 0x7f44f61a5990>"
      ]
     },
     "execution_count": 128,
     "metadata": {},
     "output_type": "execute_result"
    }
   ],
   "source": [
    "model.optimizer.lr = 1e-2\n",
    "model.fit([trn.userIdx, trn.movieIdx], trn.rating, batch_size=64, nb_epoch=6,\n",
    "          validation_data=([val.userIdx, val.movieIdx], val.rating))"
   ]
  },
  {
   "cell_type": "code",
   "execution_count": 129,
   "metadata": {},
   "outputs": [
    {
     "name": "stdout",
     "output_type": "stream",
     "text": [
      "Train on 80257 samples, validate on 19747 samples\n",
      "Epoch 1/6\n",
      "80257/80257 [==============================] - 3s - loss: 1.5235 - acc: 0.3198 - val_loss: 1.7442 - val_acc: 0.3010\n",
      "Epoch 2/6\n",
      "80257/80257 [==============================] - 3s - loss: 1.4539 - acc: 0.3269 - val_loss: 1.6851 - val_acc: 0.3018\n",
      "Epoch 3/6\n",
      "80257/80257 [==============================] - 3s - loss: 1.3857 - acc: 0.3336 - val_loss: 1.6239 - val_acc: 0.3039\n",
      "Epoch 4/6\n",
      "80257/80257 [==============================] - 3s - loss: 1.3187 - acc: 0.3424 - val_loss: 1.5668 - val_acc: 0.3085\n",
      "Epoch 5/6\n",
      "80257/80257 [==============================] - 3s - loss: 1.2528 - acc: 0.3527 - val_loss: 1.5148 - val_acc: 0.3101\n",
      "Epoch 6/6\n",
      "80257/80257 [==============================] - 3s - loss: 1.1897 - acc: 0.3617 - val_loss: 1.4655 - val_acc: 0.3139\n"
     ]
    },
    {
     "data": {
      "text/plain": [
       "<keras.callbacks.History at 0x7f44f461db50>"
      ]
     },
     "execution_count": 129,
     "metadata": {},
     "output_type": "execute_result"
    }
   ],
   "source": [
    "model.optimizer.lr = 1e-3\n",
    "model.fit([trn.userIdx, trn.movieIdx], trn.rating, batch_size=64, nb_epoch=6,\n",
    "          validation_data=([val.userIdx, val.movieIdx], val.rating))"
   ]
  },
  {
   "cell_type": "markdown",
   "metadata": {},
   "source": [
    "## Analyze results"
   ]
  },
  {
   "cell_type": "code",
   "execution_count": 147,
   "metadata": {},
   "outputs": [],
   "source": [
    "g = ratings.groupby('movieIdx')['rating'].count()\n",
    "topMovies = g.sort_values(ascending=False)[:2000]\n",
    "topMovies = np.array(topMovies.index)"
   ]
  },
  {
   "cell_type": "code",
   "execution_count": 156,
   "metadata": {},
   "outputs": [],
   "source": [
    "get_movie_bias = Model(movie_in, mb)\n",
    "movie_bias = get_movie_bias.predict(topMovies)\n",
    "movie_ratings = [(b[0], movie_names[movieIds[i]]) for i,b in zip(topMovies,movie_bias)]"
   ]
  },
  {
   "cell_type": "code",
   "execution_count": 161,
   "metadata": {},
   "outputs": [
    {
     "data": {
      "text/plain": [
       "array([[ 0.6989],\n",
       "       [ 0.6952],\n",
       "       [ 0.7712],\n",
       "       ..., \n",
       "       [ 0.5666],\n",
       "       [ 0.3025],\n",
       "       [ 0.3903]], dtype=float32)"
      ]
     },
     "execution_count": 161,
     "metadata": {},
     "output_type": "execute_result"
    }
   ],
   "source": [
    "movie_bias"
   ]
  },
  {
   "cell_type": "code",
   "execution_count": 157,
   "metadata": {},
   "outputs": [
    {
     "data": {
      "text/plain": [
       "[(-0.011868457, 'Battlefield Earth (2000)'),\n",
       " (0.033481024, 'Little Nicky (2000)'),\n",
       " (0.045714505, 'Super Mario Bros. (1993)'),\n",
       " (0.056595542, 'Batman & Robin (1997)'),\n",
       " (0.078083545, 'Speed 2: Cruise Control (1997)'),\n",
       " (0.084160037, 'Police Academy 6: City Under Siege (1989)'),\n",
       " (0.086015686, 'Blame It on Rio (1984)'),\n",
       " (0.096223675, '2 Fast 2 Furious (Fast and the Furious 2, The) (2003)'),\n",
       " (0.11228503, 'House on Haunted Hill (1999)'),\n",
       " (0.12177217, 'Wild Wild West (1999)'),\n",
       " (0.12956317, 'Lost in Space (1998)'),\n",
       " (0.13219632, 'Rambo III (1988)'),\n",
       " (0.13306664, 'Two Weeks Notice (2002)'),\n",
       " (0.13578936, 'Spice World (1997)'),\n",
       " (0.13916759, \"Charlie's Angels: Full Throttle (2003)\")]"
      ]
     },
     "execution_count": 157,
     "metadata": {},
     "output_type": "execute_result"
    }
   ],
   "source": [
    "sorted(movie_ratings, key=itemgetter(0))[:15]"
   ]
  },
  {
   "cell_type": "code",
   "execution_count": 159,
   "metadata": {},
   "outputs": [
    {
     "data": {
      "text/plain": [
       "[(0.90871221, 'Cyrano de Bergerac (1990)'),\n",
       " (0.84258831, 'Gold Rush, The (1925)'),\n",
       " (0.83125675, 'Perks of Being a Wallflower, The (2012)'),\n",
       " (0.83050346, 'Last King of Scotland, The (2006)'),\n",
       " (0.80548501, 'Argo (2012)'),\n",
       " (0.79542851, 'Exotica (1994)'),\n",
       " (0.79015726, 'My Neighbor Totoro (Tonari no Totoro) (1988)'),\n",
       " (0.78081292, 'Mississippi Burning (1988)'),\n",
       " (0.78013265, 'Dallas Buyers Club (2013)'),\n",
       " (0.77668571, 'Wolf of Wall Street, The (2013)'),\n",
       " (0.7763688, 'Tom Jones (1963)'),\n",
       " (0.77524644, 'Gone Baby Gone (2007)'),\n",
       " (0.77122247, 'Shawshank Redemption, The (1994)'),\n",
       " (0.77121168, '12 Years a Slave (2013)'),\n",
       " (0.76978338, 'Captain America: The Winter Soldier (2014)')]"
      ]
     },
     "execution_count": 159,
     "metadata": {},
     "output_type": "execute_result"
    }
   ],
   "source": [
    "sorted(movie_ratings, key=itemgetter(0), reverse=True)[:15]"
   ]
  },
  {
   "cell_type": "code",
   "execution_count": 160,
   "metadata": {},
   "outputs": [
    {
     "data": {
      "text/plain": [
       "(2000, 50)"
      ]
     },
     "execution_count": 160,
     "metadata": {},
     "output_type": "execute_result"
    }
   ],
   "source": [
    "get_movie_emb = Model(movie_in, m)\n",
    "movie_emb = np.squeeze(get_movie_emb.predict([topMovies]))\n",
    "movie_emb.shape"
   ]
  },
  {
   "cell_type": "code",
   "execution_count": 162,
   "metadata": {
    "collapsed": true
   },
   "outputs": [],
   "source": [
    "from sklearn.decomposition import PCA\n",
    "pca = PCA(n_components=3)\n",
    "movie_pca = pca.fit(movie_emb.T).components_"
   ]
  },
  {
   "cell_type": "code",
   "execution_count": 165,
   "metadata": {},
   "outputs": [],
   "source": [
    "fac0 = movie_pca[0]"
   ]
  },
  {
   "cell_type": "code",
   "execution_count": null,
   "metadata": {},
   "outputs": [],
   "source": [
    "movie_comp = [(f, movie_names[movieIds[i]]) for f,i in zip(fac0, topMovies)]"
   ]
  },
  {
   "cell_type": "markdown",
   "metadata": {},
   "source": [
    "### Not finished"
   ]
  },
  {
   "cell_type": "markdown",
   "metadata": {},
   "source": [
    "## Neural Net"
   ]
  },
  {
   "cell_type": "code",
   "execution_count": 175,
   "metadata": {
    "collapsed": true
   },
   "outputs": [],
   "source": [
    "user_in = Input(shape=(1,), dtype='int64', name='user_in')\n",
    "u = Embedding(n_users, n_factors, input_length=1, W_regularizer=l2(1e-4))(user_in)\n",
    "movie_in = Input(shape=(1,), dtype='int64', name='movie_in')\n",
    "m = Embedding(n_movies, n_factors, input_length=1, W_regularizer=l2(1e-4))(movie_in)"
   ]
  },
  {
   "cell_type": "code",
   "execution_count": 178,
   "metadata": {},
   "outputs": [],
   "source": [
    "x = merge([u, m], mode='concat')\n",
    "x = Flatten()(x)\n",
    "x = Dropout(0.3)(x)\n",
    "x = Dense(70, activation='relu')(x)\n",
    "x = Dropout(0.75)(x)\n",
    "x = Dense(1)(x)\n",
    "nn = Model([user_in, movie_in], x)\n",
    "nn.compile(Adam(0.001), loss='mse', metrics=['accuracy'])"
   ]
  },
  {
   "cell_type": "code",
   "execution_count": 174,
   "metadata": {},
   "outputs": [
    {
     "name": "stdout",
     "output_type": "stream",
     "text": [
      "Train on 80257 samples, validate on 19747 samples\n",
      "Epoch 1/8\n",
      "80257/80257 [==============================] - 3s - loss: 2.5088 - acc: 0.1891 - val_loss: 0.9308 - val_acc: 0.2839\n",
      "Epoch 2/8\n",
      "80257/80257 [==============================] - 3s - loss: 1.5073 - acc: 0.2328 - val_loss: 0.8871 - val_acc: 0.3014\n",
      "Epoch 3/8\n",
      "80257/80257 [==============================] - 3s - loss: 1.2413 - acc: 0.2576 - val_loss: 0.8594 - val_acc: 0.3155\n",
      "Epoch 4/8\n",
      "80257/80257 [==============================] - 3s - loss: 1.0307 - acc: 0.2869 - val_loss: 0.8644 - val_acc: 0.3169\n",
      "Epoch 5/8\n",
      "80257/80257 [==============================] - 3s - loss: 0.9002 - acc: 0.3117 - val_loss: 0.8432 - val_acc: 0.3283\n",
      "Epoch 6/8\n",
      "80257/80257 [==============================] - 3s - loss: 0.8365 - acc: 0.3249 - val_loss: 0.8433 - val_acc: 0.3299\n",
      "Epoch 7/8\n",
      "80257/80257 [==============================] - 3s - loss: 0.8162 - acc: 0.3363 - val_loss: 0.8466 - val_acc: 0.3330\n",
      "Epoch 8/8\n",
      "80257/80257 [==============================] - 3s - loss: 0.8057 - acc: 0.3395 - val_loss: 0.8484 - val_acc: 0.3307\n"
     ]
    },
    {
     "data": {
      "text/plain": [
       "<keras.callbacks.History at 0x7f44e6329410>"
      ]
     },
     "execution_count": 174,
     "metadata": {},
     "output_type": "execute_result"
    }
   ],
   "source": [
    "nn.fit([trn.userIdx, trn.movieIdx], trn.rating, batch_size=64, nb_epoch=8, \n",
    "          validation_data=([val.userIdx, val.movieIdx], val.rating))"
   ]
  },
  {
   "cell_type": "code",
   "execution_count": null,
   "metadata": {
    "collapsed": true
   },
   "outputs": [],
   "source": []
  }
 ],
 "metadata": {
  "anaconda-cloud": {},
  "kernelspec": {
   "display_name": "Python [conda root]",
   "language": "python",
   "name": "conda-root-py"
  },
  "language_info": {
   "codemirror_mode": {
    "name": "ipython",
    "version": 2
   },
   "file_extension": ".py",
   "mimetype": "text/x-python",
   "name": "python",
   "nbconvert_exporter": "python",
   "pygments_lexer": "ipython2",
   "version": "2.7.12"
  }
 },
 "nbformat": 4,
 "nbformat_minor": 1
}
